{
 "cells": [
  {
   "cell_type": "code",
   "execution_count": null,
   "id": "9e409397",
   "metadata": {},
   "outputs": [],
   "source": [
    "import requests\n",
    "import json\n",
    "import jieba\n",
    "from time import sleep\n",
    "import random\n",
    "\n",
    "host = \"https://graph.facebook.com/v15.0/\"\n",
    "me_id = \"108470438799001_110304545279242\"\n",
    "token = \"EAAOxZCZChCyBMBAOyxSLo00Siv2lBnzbs1m72Rnl8TEtX9B7AevnUdDabDB1dkE7a43bFHVkbUwve22DFIlIGiqwl58xMDVumN8QFZBp4frNYcby0c7QFSzbheRk4gE326qzwGg8aRZCYCgJZBJPCKUFKk1PyTZBR29ry6WcpHcGXCoMxow4T3XYnM4tjHU1MX5cAhgJJ9jgZDZD\"\n",
    "\n",
    "x=1\n",
    "y=100\n",
    "www = guess[\"data\"][0][\"message\"]\n",
    "answer=random.randint(x,y)\n",
    "print(answer)\n",
    "while True:\n",
    "    res = requests.get(host+me_id+\"/comments?access_token=\"+token)  #網址\n",
    "    guess = json.loads(res.text)\n",
    "    www = guess[\"data\"][0][\"message\"]\n",
    "    if int(www)==answer:\n",
    "        res = requests.post(host+guess['data'][0]['id']+\"/comments?message=對ㄌ&access_token=\"+token)\n",
    "        print(\"對ㄌ\")\n",
    "        print(res)\n",
    "        break\n",
    "    elif int(www)>answer:\n",
    "        res = requests.post(host+guess['data'][0]['id']+'/comments?message='+str(x)+\"~\"+str(www)+\"&access_token=\"+token)\n",
    "        print(x,\"到\",www)\n",
    "        print(res)\n",
    "        y=www\n",
    "    elif int(www)<answer:\n",
    "        res = requests.post(host+guess['data'][0]['id']+'/comments?message='+str(www)+\"~\"+str(y)+\"&access_token=\"+token)\n",
    "        print(www,\"到\",y)\n",
    "        print(res)\n",
    "        x=www\n",
    "    sleep(40)\n",
    "    \n"
   ]
  },
  {
   "cell_type": "code",
   "execution_count": null,
   "id": "44fcaf63",
   "metadata": {},
   "outputs": [],
   "source": [
    "res = requests.get(host+com_id+\"/?access_token=\"+token)  #網址\n",
    "jd = json.loads(res.text)\n",
    "jd[\"message\"]"
   ]
  },
  {
   "cell_type": "code",
   "execution_count": null,
   "id": "c117ed97",
   "metadata": {},
   "outputs": [],
   "source": []
  },
  {
   "cell_type": "code",
   "execution_count": null,
   "id": "8ec3cc91",
   "metadata": {},
   "outputs": [],
   "source": []
  },
  {
   "cell_type": "code",
   "execution_count": null,
   "id": "54e46ec2",
   "metadata": {},
   "outputs": [],
   "source": [
    "import time\n",
    "while True:\n",
    "    res = requests.get(host+post_id+\"/comments?access_token=\"+token)\n",
    "    com = json.loads(res.text)\n",
    "    if int(com['data'][0]['message'])==ans:\n",
    "        r=requests.post(host+com['data'][0]['id']+\"/comments?message=恭喜猜對&access_token=\"+token)\n",
    "        print(\"猜對\")\n",
    "        print(r)\n",
    "        break\n",
    "    elif int(com['data'][0]['message'])>ans:\n",
    "        max_a=int(com['data'][0]['message'])\n",
    "        r=requests.post(host+com['data'][0]['id']+\"/comments?message=介於\"+str(min_a)+\"~\"+str(max_a)+\"&access_token=\"+token)\n",
    "        print(\"太大\")\n",
    "        print(r)\n",
    "    elif int(com['data'][0]['message'])<ans:\n",
    "        min_a=int(com['data'][0]['message'])\n",
    "        r=requests.post(host+com['data'][0]['id']+\"/comments?message=介於\"+str(min_a)+\"~\"+str(max_a)+\"&access_token=\"+token)\n",
    "        print(\"太小\")\n",
    "        print(r)\n",
    "    time.sleep(60)"
   ]
  },
  {
   "cell_type": "code",
   "execution_count": null,
   "id": "87912850",
   "metadata": {},
   "outputs": [],
   "source": []
  },
  {
   "cell_type": "code",
   "execution_count": null,
   "id": "ef9c79c0",
   "metadata": {},
   "outputs": [],
   "source": []
  }
 ],
 "metadata": {
  "kernelspec": {
   "display_name": "Python 3 (ipykernel)",
   "language": "python",
   "name": "python3"
  },
  "language_info": {
   "codemirror_mode": {
    "name": "ipython",
    "version": 3
   },
   "file_extension": ".py",
   "mimetype": "text/x-python",
   "name": "python",
   "nbconvert_exporter": "python",
   "pygments_lexer": "ipython3",
   "version": "3.9.15"
  }
 },
 "nbformat": 4,
 "nbformat_minor": 5
}
