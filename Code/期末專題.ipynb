{
 "cells": [
  {
   "cell_type": "code",
   "execution_count": null,
   "id": "69e25f9e",
   "metadata": {},
   "outputs": [],
   "source": [
    "pip install line-bot-sdk"
   ]
  },
  {
   "cell_type": "code",
   "execution_count": 15,
   "id": "dfae4684",
   "metadata": {},
   "outputs": [
    {
     "name": "stderr",
     "output_type": "stream",
     "text": [
      "/var/folders/jb/mp7nggy97k59ky0kx45s0cbr0000gn/T/ipykernel_30736/3710164235.py:12: DeprecationWarning: executable_path has been deprecated, please pass in a Service object\n",
      "  driver = webdriver.Chrome(\"/Users/jasonzheng/Downloads/Chromedriver.exe\",options=option) #開始webdriver並更改預設設定\n"
     ]
    }
   ],
   "source": [
    "from selenium.webdriver.support.wait import WebDriverWait\n",
    "from selenium.webdriver.support import expected_conditions as EC\n",
    "from selenium.webdriver.common.by import By\n",
    "from selenium.webdriver.common.keys import Keys\n",
    "from selenium import webdriver\n",
    "from selenium.webdriver.chrome.options import Options\n",
    "\n",
    "option = webdriver.ChromeOptions() #獲取預設設定 \n",
    "prefs = {\"profile.default_content_setting_values\":{\"notifications\":2}} #創造新設定\n",
    "option.add_experimental_option(\"prefs\",prefs) #更新設定\n",
    "\n",
    "driver = webdriver.Chrome(\"/Users/jasonzheng/Downloads/Chromedriver.exe\",options=option) #開始webdriver並更改預設設定\n",
    "driver.get(\"https://music.youtube.com\") #開啟網址"
   ]
  },
  {
   "cell_type": "code",
   "execution_count": null,
   "id": "81df7303",
   "metadata": {
    "scrolled": false
   },
   "outputs": [
    {
     "name": "stdout",
     "output_type": "stream",
     "text": [
      " * Serving Flask app \"__main__\" (lazy loading)\n",
      " * Environment: production\n",
      "\u001b[31m   WARNING: This is a development server. Do not use it in a production deployment.\u001b[0m\n",
      "\u001b[2m   Use a production WSGI server instead.\u001b[0m\n",
      " * Debug mode: off\n"
     ]
    },
    {
     "name": "stderr",
     "output_type": "stream",
     "text": [
      " * Running on http://127.0.0.1:3400/ (Press CTRL+C to quit)\n"
     ]
    },
    {
     "name": "stdout",
     "output_type": "stream",
     "text": [
      "{'destination': 'U2c71b26901ba06390413d6a433e87860', 'events': [{'type': 'message', 'message': {'type': 'text', 'id': '17554466683038', 'text': '123'}, 'webhookEventId': '01GQZMDYFZ4QY44P28NYH5881S', 'deliveryContext': {'isRedelivery': False}, 'timestamp': 1675025119236, 'source': {'type': 'user', 'userId': 'Uc7d2254d4e4df1eed030d848eee36912'}, 'replyToken': '768c1a5aab6449c5b9a3168a91ea50f4', 'mode': 'active'}]}\n"
     ]
    },
    {
     "name": "stderr",
     "output_type": "stream",
     "text": [
      "127.0.0.1 - - [30/Jan/2023 04:45:20] \"POST / HTTP/1.1\" 200 -\n"
     ]
    }
   ],
   "source": [
    "from flask import Flask, request\n",
    "# 載入 json 標準函式庫，處理回傳的資料格式\n",
    "import json\n",
    "# 載入 LINE Message API 相關函式庫\n",
    "from linebot import LineBotApi, WebhookHandler\n",
    "from linebot.exceptions import InvalidSignatureError\n",
    "from linebot.models import FlexSendMessage, TextSendMessage, ImageSendMessage, FlexSendMessage\n",
    "song = \"Gloria\"\n",
    "song2 = \"專輯 • Sam Smith\"\n",
    "\n",
    "app = Flask(__name__)\n",
    "\n",
    "line_bot_api = LineBotApi('/bZRAbobuLBU5o5MwA9vuAdQOox5H/pANlkA92VcShUeNms9klNaVoVDmR9W8bG4m9vd9siLBd6H+dTu39n7RNzOGSSwXjT/D6zEvZCJqK/FvEZFXINMjO75CUhAqpoeAEVpLH81RHWftgnnFdyv6gdB04t89/1O/w1cDnyilFU=')\n",
    "\n",
    "@app.route(\"/\", methods=['POST'])\n",
    "def linebot():\n",
    "    body = request.get_json()                    # 取得收到的訊息內容\n",
    "    print(body)\n",
    "    line_bot_api.reply_message(\n",
    "    body['events'][0]['replyToken'],\n",
    "    FlexSendMessage(alt_text='hello',\n",
    "                        contents=\n",
    "    return 'OK',200                                              # 驗證 Webhook 使用，不能省略\n",
    "if __name__ == \"__main__\":\n",
    "    app.run(port=3400)"
   ]
  },
  {
   "cell_type": "code",
   "execution_count": 2,
   "id": "955811ed",
   "metadata": {},
   "outputs": [
    {
     "name": "stdout",
     "output_type": "stream",
     "text": [
      "{'type': 'carousel', 'contents': [{'type': 'bubble', 'size': 'micro', 'hero': {'type': 'image', 'url': 'https://lh3.googleusercontent.com/kIKHGx8CBQJ1IpkE4HLldQ6D2w36SwB1JsqoVXgdt-7q_Z4sVK-059ylIGYP9T30gLKHcWCKQpvuA81S=w544-h544-l90-rj', 'size': 'full', 'aspectRatio': '20:13', 'aspectMode': 'cover'}, 'body': {'type': 'box', 'layout': 'vertical', 'spacing': 'sm', 'contents': [{'type': 'text', 'text': 'Gloria', 'weight': 'bold', 'size': 'md', 'contents': []}, {'type': 'box', 'layout': 'baseline', 'contents': [{'type': 'text', 'text': '專輯 • Sam Smith', 'weight': 'bold', 'size': 'md', 'flex': 0, 'contents': []}]}]}, 'footer': {'type': 'box', 'layout': 'vertical', 'spacing': 'sm', 'contents': [{'type': 'button', 'action': {'type': 'uri', 'label': '前往收聽', 'uri': 'https://music.youtube.com/browse/MPREb_yotNMdR7PZ8'}, 'style': 'primary'}]}}]}\n"
     ]
    }
   ],
   "source": [
    "print(AAA.abc)"
   ]
  },
  {
   "cell_type": "code",
   "execution_count": null,
   "id": "1706c38e",
   "metadata": {},
   "outputs": [],
   "source": []
  }
 ],
 "metadata": {
  "kernelspec": {
   "display_name": "Python 3 (ipykernel)",
   "language": "python",
   "name": "python3"
  },
  "language_info": {
   "codemirror_mode": {
    "name": "ipython",
    "version": 3
   },
   "file_extension": ".py",
   "mimetype": "text/x-python",
   "name": "python",
   "nbconvert_exporter": "python",
   "pygments_lexer": "ipython3",
   "version": "3.9.15"
  }
 },
 "nbformat": 4,
 "nbformat_minor": 5
}
