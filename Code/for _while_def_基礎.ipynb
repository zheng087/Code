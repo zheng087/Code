{
 "cells": [
  {
   "cell_type": "code",
   "execution_count": null,
   "id": "9b98f085",
   "metadata": {},
   "outputs": [],
   "source": [
    "n=0\n",
    "while n<10:\n",
    "    n+=1\n",
    "    print(n)"
   ]
  },
  {
   "cell_type": "code",
   "execution_count": null,
   "id": "f8c9a64a",
   "metadata": {},
   "outputs": [],
   "source": [
    "novel=\"1@234@567@89@0\"\n",
    "new_novel=\" \"\n",
    "    \n",
    "for word in novel:\n",
    "    if word != \"@\":\n",
    "        new_novel+=word\n",
    "        \n",
    "print(new_novel)"
   ]
  },
  {
   "cell_type": "code",
   "execution_count": null,
   "id": "c719bec5",
   "metadata": {},
   "outputs": [],
   "source": [
    "menu={\"滷肉飯\":45,\"牛肉麵\":150,\"牛排\":180}\n",
    "\n",
    "for food in menu.items():\n",
    "    print([food])\n",
    "    "
   ]
  },
  {
   "cell_type": "code",
   "execution_count": null,
   "id": "d83ca649",
   "metadata": {},
   "outputs": [],
   "source": []
  },
  {
   "cell_type": "code",
   "execution_count": null,
   "id": "a017f4a3",
   "metadata": {},
   "outputs": [],
   "source": [
    "def total_price(price):\n",
    "    total=price*1.1*1.05\n",
    "    \n",
    "a=total_price(2000)\n",
    "print(a)"
   ]
  },
  {
   "cell_type": "code",
   "execution_count": null,
   "id": "5f3ee01f",
   "metadata": {},
   "outputs": [],
   "source": []
  },
  {
   "cell_type": "code",
   "execution_count": null,
   "id": "c0119dbf",
   "metadata": {},
   "outputs": [],
   "source": []
  }
 ],
 "metadata": {
  "kernelspec": {
   "display_name": "Python 3 (ipykernel)",
   "language": "python",
   "name": "python3"
  },
  "language_info": {
   "codemirror_mode": {
    "name": "ipython",
    "version": 3
   },
   "file_extension": ".py",
   "mimetype": "text/x-python",
   "name": "python",
   "nbconvert_exporter": "python",
   "pygments_lexer": "ipython3",
   "version": "3.9.15"
  }
 },
 "nbformat": 4,
 "nbformat_minor": 5
}
