{
 "cells": [
  {
   "cell_type": "code",
   "execution_count": 43,
   "id": "84271a8a",
   "metadata": {},
   "outputs": [
    {
     "name": "stdout",
     "output_type": "stream",
     "text": [
      "https://encrypted-tbn0.gstatic.com/images?q=tbn:ANd9GcS4HWKxbz4p5C2Z1NA5COSZz4yClqSAzCULbyIcOZNM99N2dtq7fMmGo_1KKg&s\n",
      "https://encrypted-tbn0.gstatic.com/images?q=tbn:ANd9GcTj06L-bp_J4On7AfYN6LVpXv4YtVdfM8BNbch3XXN3VaVc4g3MriacB_OlwWA&s\n",
      "https://encrypted-tbn0.gstatic.com/images?q=tbn:ANd9GcSP84YmopppPjcXogqB-GXoRYlc-MjuJXckrNYn-rNFOznKafev6GNlMhqX2Ok&s\n",
      "https://encrypted-tbn0.gstatic.com/images?q=tbn:ANd9GcS06i8yb1YokEw6GvPbmWj0G-37TIg1bJBtwNUXK4GjsiIsVVMqzzOY5QkdBj4&s\n",
      "https://encrypted-tbn0.gstatic.com/images?q=tbn:ANd9GcRB4eqZAm2CC6y1EyCriTgS5-cnFNBe6cYvrfwrpqAza27Gyto4yXEl7jSbIQ&s\n",
      "https://encrypted-tbn0.gstatic.com/images?q=tbn:ANd9GcTFYkUPpVsyJrIumdljD-wSuVWCGs0t1FG11O_KmssrSwwv2qPoZ_elekm8pw&s\n",
      "https://encrypted-tbn0.gstatic.com/images?q=tbn:ANd9GcQ-ULm_dcFrpmYu5s16F2YM3QKybKqCgWARkAzt1x9e_Bs9zIy-UP1GcxB9m88&s\n",
      "https://encrypted-tbn0.gstatic.com/images?q=tbn:ANd9GcRsfugGxBJZsqPm87HzqIaSo5sbaN6KY_wI524sY29LBRujGQ_KcXf4g-PCBtI&s\n",
      "https://encrypted-tbn0.gstatic.com/images?q=tbn:ANd9GcTMaL9yqmteUW-aCWf5A7aDyQeJRHAqhgIRpPzFRjrkosYSJTvR-f0eBXl_DmU&s\n",
      "https://encrypted-tbn0.gstatic.com/images?q=tbn:ANd9GcQgDnHW9-3RFxMT3aXKvyRBG11WI6Xhv3WXzjsN2b3mrfxBMZdUo7E3G-j2Bw&s\n",
      "https://encrypted-tbn0.gstatic.com/images?q=tbn:ANd9GcThmErctA6O3jrIfGHPbm5_Adi3uYOMm4wDz2h2voibdZqWQjyUc7w7utbTSw&s\n",
      "https://encrypted-tbn0.gstatic.com/images?q=tbn:ANd9GcQsiZkY9CHR_oLaEpgDo5grJbtkq9fQW1T0JCZUCrxWroPVUG8jkQXkRFQ0lg&s\n",
      "https://encrypted-tbn0.gstatic.com/images?q=tbn:ANd9GcTLwbESkFdKG7dFWniSn3WyJc54MtJambkV-Yct3WATFTXQ3Ct0RPdXmA4H9z0&s\n",
      "https://encrypted-tbn0.gstatic.com/images?q=tbn:ANd9GcSIP55G3N_hSSALszvKygqHJ-i4O1u1AebmYE4V0XK-I8HtrNwdwk0DlUkDNkM&s\n",
      "https://encrypted-tbn0.gstatic.com/images?q=tbn:ANd9GcQ_V5OHKC5FLBPD9TR6caFCWP21xrKBYftJ-oeddJ_VYZ8noYZnBtUibyLyqgw&s\n",
      "https://encrypted-tbn0.gstatic.com/images?q=tbn:ANd9GcT7FH0cq02B6gmoIQp9VFzdCkJRdj39FYWMAn3f179-iCZfTHkx9yXLCK422Q&s\n",
      "https://encrypted-tbn0.gstatic.com/images?q=tbn:ANd9GcRyxsR9im7U8_naOT8zbceR6VnwDJpJ5ez4h6oc4P8RtECq9VY8eIgsLJG9_Jk&s\n",
      "https://encrypted-tbn0.gstatic.com/images?q=tbn:ANd9GcQWAuAcnailGV-lTvAFK6lNm24D2X2yzYuTLCGw7HC_6BGiFZ43ysKwrmpgJ3k&s\n",
      "https://encrypted-tbn0.gstatic.com/images?q=tbn:ANd9GcSw2uV-ipvHs1VsEg52vgAmEzp2vCS1UgQ0jgEjQbjAE0x1R2EGVTDvH9czpg&s\n",
      "https://encrypted-tbn0.gstatic.com/images?q=tbn:ANd9GcSJhuzgzHr5ml-6SulsuKjz5Xs2VQ7rGUkYN5P4-2Ywy5eAiOwNZsq5NZCL7g&s\n",
      "done\n"
     ]
    }
   ],
   "source": [
    "import requests\n",
    "from bs4 import BeautifulSoup\n",
    "import shutil\n",
    "url = \"https://www.google.com/search?q=jake+gyllenhaal&source=lnms&tbm=isch&sa=X&ved=2ahUKEwiH1O26uvr7AhUOg5QKHemNCVAQ_AUoAXoECAIQAw&biw=1680&bih=835&dpr=2\"\n",
    "data = requests.get(url)\n",
    "soup = BeautifulSoup(data.text)\n",
    "n=0\n",
    "for aaaa in soup.find_all(\"img\",class_=\"yWs4tf\"):\n",
    "    n+=1\n",
    "    img=aaaa[\"src\"]\n",
    "    print(img)\n",
    "    pic = requests.get(img,stream = True)\n",
    "    fname = \"/Users/jasonzheng/Desktop/python/picccc/jake\"+str(n)+\".jpg\"\n",
    "    with open(fname,\"wb\") as f:\n",
    "        shutil.copyfileobj(pic.raw,f)\n",
    "print(\"done\")\n",
    "    \n",
    "#print(soup.find_all(\"img\",class_=\"yWs4tf\")[9][\"src\"])\n",
    "\n",
    "#print(soup.prettify())\n"
   ]
  },
  {
   "cell_type": "code",
   "execution_count": null,
   "id": "b4a8518f",
   "metadata": {},
   "outputs": [],
   "source": []
  },
  {
   "cell_type": "code",
   "execution_count": null,
   "id": "33f8a85b",
   "metadata": {},
   "outputs": [],
   "source": []
  }
 ],
 "metadata": {
  "kernelspec": {
   "display_name": "Python 3 (ipykernel)",
   "language": "python",
   "name": "python3"
  },
  "language_info": {
   "codemirror_mode": {
    "name": "ipython",
    "version": 3
   },
   "file_extension": ".py",
   "mimetype": "text/x-python",
   "name": "python",
   "nbconvert_exporter": "python",
   "pygments_lexer": "ipython3",
   "version": "3.9.15"
  }
 },
 "nbformat": 4,
 "nbformat_minor": 5
}
