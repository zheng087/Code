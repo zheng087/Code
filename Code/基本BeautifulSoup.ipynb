{
 "cells": [
  {
   "cell_type": "code",
   "execution_count": 2,
   "id": "4f26552b",
   "metadata": {},
   "outputs": [
    {
     "name": "stdout",
     "output_type": "stream",
     "text": [
      "abc\n"
     ]
    }
   ],
   "source": [
    "data=\"\"\"\n",
    "<html>\n",
    "  <head>\n",
    "     <a href=\"https://www.1111.com.tw/search/job?ks=%E5%A4%A7%E6%95%B8%E6%93%9A\" >這是一行字</a>\n",
    "     <a> 第2行 </a>\n",
    "     <a> 第3行 </a>\n",
    "  </head>\n",
    "  <body>\n",
    "\t<h1 class=\"abc\" href=\"123\">abc</h1>\n",
    "\t<a> 第4行 </a>\n",
    "      <a> 第5行 </a>\n",
    "\t<h1 class=\"job\">職缺：<h2>大數據工程師</h2> </h1>\n",
    "  </body>\n",
    "</html>\n",
    "\"\"\"\n",
    "\n",
    "from bs4 import BeautifulSoup\n",
    "\n",
    "soup = BeautifulSoup(data)\n",
    "\n",
    "print(soup.body.find(\"h1\").text) #查詢資料\n",
    "\n",
    "#print(soup.find_all(\"h1\",class_=\"job\")[0]) #可以兩個條件下查詢\n",
    "\n",
    "#print(soup.a[\"href\"]) # 找屬性內容\n",
    "\n",
    "#print(soup.select(\"h1\")[1].string) # string 內容不是純字串 就會none \n",
    "\n",
    "#print(soup.select(\"h1\")[1].text) # text 全部文字都包含\n",
    "\n",
    "\n",
    "# <h1 class=\"job\">職缺：<h2>大數據工程師</h2> </h1>\n",
    "# 想要單獨找出 職缺: 就要用 replace\n",
    "\n",
    "#print(soup.select(\"h1\")[1].text.replace(soup.select(\"h1\")[1].h2.string,\"\")) # 把 h1 裡的 h2 置換(replace)成 \"\" 空白"
   ]
  },
  {
   "cell_type": "code",
   "execution_count": null,
   "id": "9ec41d28",
   "metadata": {},
   "outputs": [],
   "source": []
  },
  {
   "cell_type": "code",
   "execution_count": null,
   "id": "b49b44e4",
   "metadata": {},
   "outputs": [],
   "source": []
  }
 ],
 "metadata": {
  "kernelspec": {
   "display_name": "Python 3 (ipykernel)",
   "language": "python",
   "name": "python3"
  },
  "language_info": {
   "codemirror_mode": {
    "name": "ipython",
    "version": 3
   },
   "file_extension": ".py",
   "mimetype": "text/x-python",
   "name": "python",
   "nbconvert_exporter": "python",
   "pygments_lexer": "ipython3",
   "version": "3.9.15"
  }
 },
 "nbformat": 4,
 "nbformat_minor": 5
}
