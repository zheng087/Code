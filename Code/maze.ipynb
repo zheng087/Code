{
 "cells": [
  {
   "cell_type": "code",
   "execution_count": null,
   "id": "49615e29",
   "metadata": {},
   "outputs": [],
   "source": [
    "maze=[[2,2,2,2,2,2,2],\n",
    "      [2,0,0,0,0,0,2],\n",
    "      [2,0,2,0,2,0,2],\n",
    "      [2,0,0,2,0,0,2],\n",
    "      [2,2,0,2,0,2,2],\n",
    "      [2,1,0,2,0,4,2],\n",
    "      [2,2,2,2,2,2,2]]\n",
    "st=[5,1]#起點\n",
    "end=[5,5]#終點\n",
    "road=[]\n",
    "road.append(st)\n",
    "while True:\n",
    "    if maze[st[0]-1][st[1]]==0: #向上\n",
    "            st=[st[0]-1,st[1]]\n",
    "            road.append(st)\n",
    "            maze[st[0]][st[1]]=3\n",
    "            print(st)\n",
    "    elif maze[st[0]][st[1]+1]==0: #向右\n",
    "            st=[st[0],st[1]+1]\n",
    "            road.append(st)\n",
    "            maze[st[0]][st[1]]=3\n",
    "            print(st)\n",
    "    elif maze[st[0]+1][st[1]]==0: #向下\n",
    "            st=[st[0]+1,st[1]]\n",
    "            road.append(st)\n",
    "            maze[st[0]][st[1]]=3\n",
    "            print(st)\n",
    "    elif maze[st[0]][st[1]-1]==0: #向左\n",
    "            st=[st[0],st[1]-1]\n",
    "            road.append(st)\n",
    "            maze[st[0]][st[1]]=3\n",
    "            print(st)\n",
    "road"
   ]
  }
 ],
 "metadata": {
  "kernelspec": {
   "display_name": "Python 3 (ipykernel)",
   "language": "python",
   "name": "python3"
  },
  "language_info": {
   "codemirror_mode": {
    "name": "ipython",
    "version": 3
   },
   "file_extension": ".py",
   "mimetype": "text/x-python",
   "name": "python",
   "nbconvert_exporter": "python",
   "pygments_lexer": "ipython3",
   "version": "3.9.15"
  }
 },
 "nbformat": 4,
 "nbformat_minor": 5
}
