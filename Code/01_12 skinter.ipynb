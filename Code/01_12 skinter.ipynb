{
 "cells": [
  {
   "cell_type": "code",
   "execution_count": 14,
   "id": "121f8d93",
   "metadata": {},
   "outputs": [],
   "source": [
    "import tkinter as tk\n",
    "\n",
    "def change():\n",
    "    t = en.get()\n",
    "    print(t,type(t))\n",
    "    lb.config(text=(t,type(t)))\n",
    "\n",
    "win=tk.Tk() #定義主視窗win物件\n",
    "\n",
    "win.title(\"UI TEST\") \n",
    "win.geometry(\"600x450\")\n",
    "win.resizable(False,False) #將視窗大小設定為可不可調整\n",
    "#上面設定成可調整 下面設定最大最小視窗\n",
    "# win.minsize(width=400,height=300)\n",
    "# win.maxsize(width=1200,height=600)\n",
    "win.config(bg='#B0C4DE') #背景顏色\n",
    "win.attributes('-alpha',0.9) #-alpha背景透明度 -topmost置頂\n",
    "\n",
    "en = tk.Entry()\n",
    "en.pack()\n",
    "\n",
    "\n",
    "#定義標籤\n",
    "lb = tk.Label(text=\"text\") #定義label物件\n",
    "lb.config(bg='#D8BFD8',font=(\"思源黑體\",50))\n",
    "lb.pack() #打包到 win\n",
    "\n",
    "btn = tk.Button(text='change')\n",
    "btn.config(bg='#A9A9A9',command=change,width=\"20\",height=\"5\")\n",
    "btn.pack()\n",
    "\n",
    "\n",
    "win.mainloop() #持續顯示"
   ]
  },
  {
   "cell_type": "code",
   "execution_count": null,
   "id": "f20eb086",
   "metadata": {},
   "outputs": [],
   "source": []
  },
  {
   "cell_type": "code",
   "execution_count": null,
   "id": "eafe21c8",
   "metadata": {},
   "outputs": [],
   "source": []
  }
 ],
 "metadata": {
  "kernelspec": {
   "display_name": "Python 3 (ipykernel)",
   "language": "python",
   "name": "python3"
  },
  "language_info": {
   "codemirror_mode": {
    "name": "ipython",
    "version": 3
   },
   "file_extension": ".py",
   "mimetype": "text/x-python",
   "name": "python",
   "nbconvert_exporter": "python",
   "pygments_lexer": "ipython3",
   "version": "3.9.15"
  }
 },
 "nbformat": 4,
 "nbformat_minor": 5
}
