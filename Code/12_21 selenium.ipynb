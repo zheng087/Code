{
 "cells": [
  {
   "cell_type": "code",
   "execution_count": null,
   "id": "6a582028",
   "metadata": {
    "scrolled": true
   },
   "outputs": [],
   "source": [
    "!pip install selenium"
   ]
  },
  {
   "cell_type": "code",
   "execution_count": null,
   "id": "779665ed",
   "metadata": {
    "scrolled": true
   },
   "outputs": [],
   "source": [
    "from selenium import webdriver\n",
    "from selenium.webdriver.chrome.options import Options\n",
    "\n",
    "option = webdriver.ChromeOptions() #獲取預設設定 \n",
    "prefs = {\"profile.default_content_setting_values\":{\"notifications\":2}} #創造新設定\n",
    "option.add_experimental_option(\"prefs\",prefs) #更新設定\n",
    "\n",
    "driver = webdriver.Chrome(\"/Users/jasonzheng/Downloads/Chromedriver.exe\",options=option) #開始webdriver並更改預設設定\n",
    "driver.get(\"https://www.instagram.com/\") #開啟網址\n"
   ]
  },
  {
   "cell_type": "code",
   "execution_count": null,
   "id": "2fb45652",
   "metadata": {},
   "outputs": [],
   "source": [
    "from selenium.webdriver.support.wait import WebDriverWait\n",
    "from selenium.webdriver.support import expected_conditions as EC\n",
    "from selenium.webdriver.common.by import By\n",
    "from selenium.webdriver.common.keys import Keys\n",
    "\n",
    "\n",
    "            #讓網站等待最多10秒\n",
    "username = WebDriverWait(driver,10).until(EC.element_to_be_clickable((By.CSS_SELECTOR,\"input[name='email']\")))\n",
    "username2 = WebDriverWait(driver,10).until(EC.element_to_be_clickable((By.CSS_SELECTOR,\"input[name='pass']\")))\n",
    "send = WebDriverWait(driver,10).until(EC.element_to_be_clickable((By.CSS_SELECTOR,\"button[name='login']\")))\n",
    "\n",
    "\n",
    "username.send_keys(\"248327\")\n",
    "username2.send_keys(\"371311\")\n",
    "#send.click()   #點擊按鈕\n",
    "#send.send_keys(Keys.ENTER)    #對指定按鈕按ENTER\n",
    "webdriver.ActionChains(driver).send_keys(Keys.ENTER).perform()  #對整個頁面按ENTER"
   ]
  },
  {
   "cell_type": "code",
   "execution_count": null,
   "id": "9a02354e",
   "metadata": {},
   "outputs": [],
   "source": [
    "#driver.execute_script(\"window.scrollTo(0,50000)\")\n",
    "driver.execute_script(\"window.scrollTo(0,document.body.scroolHeight)\")  #＃＃＃＃＃＃＃"
   ]
  },
  {
   "cell_type": "code",
   "execution_count": null,
   "id": "dc8b5ab9",
   "metadata": {
    "scrolled": true
   },
   "outputs": [],
   "source": [
    "import json\n",
    "cookie = driver.get_cookies()\n",
    "print(cookie)\n",
    "jsoncookie = json.dumps(cookie)\n",
    "with open(\"instagram.cookie\",\"w\") as f:\n",
    "    f.write(jsoncookie)"
   ]
  },
  {
   "cell_type": "code",
   "execution_count": null,
   "id": "4d11d05d",
   "metadata": {},
   "outputs": [],
   "source": [
    "from selenium import webdriver\n",
    "from selenium.webdriver.chrome.options import Options\n",
    "\n",
    "option = webdriver.ChromeOptions()\n",
    "prefs = {\"profile.default_content_setting_values\":{\"notifications\":2}}\n",
    "option.add_experimental_option(\"prefs\",prefs)\n",
    "\n",
    "driver = webdriver.Chrome(\"/Users/jasonzheng/Downloads/Chromedriver.exe\",options=option)\n",
    "driver.get(\"https://www.instagram.com/\")\n",
    "f1 = open(\"instagram.json\")\n",
    "cookies = json.load(f1.read())\n",
    "\n",
    "for c in cookies:\n",
    "    driver.add_cookie(c)\n",
    "\n",
    "f1.close()\n",
    "\n",
    "driver.refresh"
   ]
  },
  {
   "cell_type": "code",
   "execution_count": null,
   "id": "059b7420",
   "metadata": {},
   "outputs": [],
   "source": []
  },
  {
   "cell_type": "code",
   "execution_count": null,
   "id": "cb43b97f",
   "metadata": {},
   "outputs": [],
   "source": []
  },
  {
   "cell_type": "code",
   "execution_count": null,
   "id": "5ad83e64",
   "metadata": {},
   "outputs": [],
   "source": []
  },
  {
   "cell_type": "code",
   "execution_count": null,
   "id": "a7420d27",
   "metadata": {},
   "outputs": [],
   "source": [
    "from selenium.webdriver.support.wait import WebDriverWait\n",
    "from selenium.webdriver.support import expected_conditions as EC\n",
    "from selenium.webdriver.common.by import By\n",
    "from selenium.webdriver.common.keys import Keys\n",
    "from selenium import webdriver\n",
    "from selenium.webdriver.chrome.options import Options\n",
    "\n",
    "option = webdriver.ChromeOptions() #獲取預設設定 \n",
    "prefs = {\"profile.default_content_setting_values\":{\"notifications\":2}} #創造新設定\n",
    "option.add_experimental_option(\"prefs\",prefs) #更新設定\n",
    "\n",
    "driver = webdriver.Chrome(\"/Users/jasonzheng/Downloads/Chromedriver.exe\",options=option) #開始webdriver並更改預設設定\n",
    "driver.get(\"https://www.google.com/\") #開啟網址\n",
    "\n",
    "\n",
    "         #讓網站等待最多10秒         #直到判斷  元素可以被點擊互動         以css選取器        tag[attr = value]\n",
    "search = WebDriverWait(driver,10).until(EC.element_to_be_clickable((By.CSS_SELECTOR,\"[title='Google 搜尋']\")))\n",
    "search.send_keys(\"甜約翰封面\")\n",
    "search.send_keys(Keys.ENTER)\n",
    "driver.find_element(By.XPATH,('//*[text()=\"圖片\"]')).click()\n",
    "driver.find_element(By.XPATH,('//*[text()=\"工具\"]')).click()\n",
    "driver.find_element(By.XPATH,('//*[text()=\"大小\"]')).click()\n",
    "driver.find_element(By.XPATH,('//*[text()=\"大\"]')).click()"
   ]
  },
  {
   "cell_type": "code",
   "execution_count": null,
   "id": "dc9384af",
   "metadata": {},
   "outputs": [],
   "source": [
    "#\n",
    "\n",
    "import time\n",
    "anchor = driver.find_elements(By.CLASS_NAME,(\"wXeWr\"))\n",
    "anchor1 = []\n",
    "print(anchor)\n",
    "for img in anchor[:10]:\n",
    "    try:#測試子程式運行是否出錯error,若正常運行\n",
    "        time.sleep(2)\n",
    "        img.click()\n",
    "        anchor1.append(img.get_attribute(\"href\")) #抓穩定的大圖\n",
    "    except:#測試子程式運行是否出錯error,若出現錯誤\n",
    "        pass\n",
    "print(len(anchor1))\n",
    "print(anchor1)"
   ]
  },
  {
   "cell_type": "code",
   "execution_count": null,
   "id": "05642a7d",
   "metadata": {},
   "outputs": [],
   "source": [
    "img3 = []\n",
    "for img in anchor1:\n",
    "    driver.get(img)\n",
    "    time.sleep(5)\n",
    "    anchor2 = driver.find_elements(By.CLASS_NAME,(\"n3VNCb\")) #抓大圖資源\n",
    "    #for img1 in  anchor2:\n",
    "        #anchor3 = [img1.get_attribute(\"src\")]\n",
    "    anchor3 = [img1.get_attribute(\"src\") for img1 in anchor2] #抓資料連結\n",
    "    anchor4 = [img2 for img2 in anchor3 if str(img2).startswith(\"http\")]\n",
    "    print(anchor4)\n",
    "    if anchor4 != []:\n",
    "        img3.append(anchor4[0])"
   ]
  },
  {
   "cell_type": "code",
   "execution_count": null,
   "id": "c5b6b50c",
   "metadata": {},
   "outputs": [],
   "source": [
    "import os\n",
    "\n",
    "path1 = os.getcwd() #抓現在所處位置路徑\n",
    "path2 = os.path.join(path1,\"圖片1\") #設置資料夾名稱\n",
    "os.mkdir(path2)\n",
    "path2"
   ]
  },
  {
   "cell_type": "code",
   "execution_count": null,
   "id": "b063d963",
   "metadata": {},
   "outputs": [],
   "source": [
    "import wget\n",
    "counter = 1\n",
    "for pic in img3:\n",
    "    try: #以免因error導致程式停止運作\n",
    "        save_as = os.path.join(path2,str(counter)+\".jpg\") #預計存檔路徑與檔名\n",
    "        wget.download(pic,save_as) #下載並存檔\n",
    "        counter +=1\n",
    "    except: #出錯時的替代處理\n",
    "        print(\"error\")\n",
    "        counter +=1"
   ]
  },
  {
   "cell_type": "code",
   "execution_count": null,
   "id": "845909b9",
   "metadata": {},
   "outputs": [],
   "source": [
    "from bs4 import BeautifulSoup\n",
    "soup = BeautifulSoup(driver.page_source,\"html.parser\")\n",
    "print(soup.prettify())"
   ]
  }
 ],
 "metadata": {
  "kernelspec": {
   "display_name": "Python 3 (ipykernel)",
   "language": "python",
   "name": "python3"
  },
  "language_info": {
   "codemirror_mode": {
    "name": "ipython",
    "version": 3
   },
   "file_extension": ".py",
   "mimetype": "text/x-python",
   "name": "python",
   "nbconvert_exporter": "python",
   "pygments_lexer": "ipython3",
   "version": "3.9.15"
  }
 },
 "nbformat": 4,
 "nbformat_minor": 5
}
