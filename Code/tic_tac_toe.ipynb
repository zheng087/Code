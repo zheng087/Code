{
 "cells": [
  {
   "cell_type": "code",
   "execution_count": null,
   "id": "d1e7b35c",
   "metadata": {},
   "outputs": [
    {
     "name": "stdout",
     "output_type": "stream",
     "text": [
      "  7  ┃  8  ┃  9\n",
      "-----------------\n",
      "  4  ┃  5  ┃  6\n",
      "-----------------\n",
      "  1  ┃  2  ┃  3\n",
      "\n",
      "\n",
      "\n"
     ]
    }
   ],
   "source": [
    "def PB(x):\n",
    "    print(\" \",x[7],\" ┃ \",x[8],\" ┃ \",x[9])\n",
    "    print(\"-----------------\")\n",
    "    print(\" \",x[4],\" ┃ \",x[5],\" ┃ \",x[6])\n",
    "    print(\"-----------------\")\n",
    "    print(\" \",x[1],\" ┃ \",x[2],\" ┃ \",x[3])\n",
    "    print(\"\\n\\n\")\n",
    "    \n",
    "board=[0,1,2,3,4,5,6,7,8,9]\n",
    "\n",
    "def move(x,y):\n",
    "    L=[\"🙆‍♀️\",\"🙅‍♂️\"]\n",
    "    x[int(input())]=L[y]\n",
    "    PB(x)\n",
    "    return x\n",
    "\n",
    "y=0\n",
    "\n",
    "PB(board)\n",
    "\n",
    "while True:\n",
    "    board=move(board,y)\n",
    "    if ((board[1]==board[2]==board[3]) or\n",
    "        (board[4]==board[5]==board[6]) or\n",
    "        (board[7]==board[8]==board[9]) or\n",
    "        (board[1]==board[4]==board[7]) or\n",
    "        (board[2]==board[5]==board[8]) or\n",
    "        (board[3]==board[6]==board[9]) or\n",
    "        (board[1]==board[5]==board[9]) or\n",
    "        (board[3]==board[5]==board[7])):\n",
    "        break\n",
    "    y = not y\n",
    "\n",
    "    \n",
    "if y==0:\n",
    "    print(\"圈圈獲勝\")\n",
    "else:\n",
    "    print(\"叉叉獲勝\")\n",
    "\n"
   ]
  },
  {
   "cell_type": "code",
   "execution_count": null,
   "id": "b984ce60",
   "metadata": {},
   "outputs": [],
   "source": []
  },
  {
   "cell_type": "markdown",
   "id": "7ece91ba",
   "metadata": {},
   "source": [
    " "
   ]
  }
 ],
 "metadata": {
  "kernelspec": {
   "display_name": "Python 3 (ipykernel)",
   "language": "python",
   "name": "python3"
  },
  "language_info": {
   "codemirror_mode": {
    "name": "ipython",
    "version": 3
   },
   "file_extension": ".py",
   "mimetype": "text/x-python",
   "name": "python",
   "nbconvert_exporter": "python",
   "pygments_lexer": "ipython3",
   "version": "3.9.15"
  }
 },
 "nbformat": 4,
 "nbformat_minor": 5
}
