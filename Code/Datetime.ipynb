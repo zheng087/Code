{
 "cells": [
  {
   "cell_type": "code",
   "execution_count": 1,
   "id": "38394ebb",
   "metadata": {},
   "outputs": [
    {
     "name": "stdout",
     "output_type": "stream",
     "text": [
      "2022-12-07 09:12:28.579544\n"
     ]
    }
   ],
   "source": [
    "import datetime\n",
    "print(datetime.datetime.now()) #原始"
   ]
  },
  {
   "cell_type": "code",
   "execution_count": 1,
   "id": "b6203d95",
   "metadata": {},
   "outputs": [
    {
     "data": {
      "text/plain": [
       "datetime.datetime(2023, 2, 25, 3, 48, 55, 576729)"
      ]
     },
     "execution_count": 1,
     "metadata": {},
     "output_type": "execute_result"
    }
   ],
   "source": [
    "import sys\n",
    "from datetime import datetime as dt\n",
    "del dt\n",
    "sys.modules[\"datetime\"].datetime.now()"
   ]
  },
  {
   "cell_type": "code",
   "execution_count": null,
   "id": "8735a704",
   "metadata": {},
   "outputs": [],
   "source": []
  },
  {
   "cell_type": "code",
   "execution_count": null,
   "id": "e42697bd",
   "metadata": {},
   "outputs": [],
   "source": []
  },
  {
   "cell_type": "code",
   "execution_count": 36,
   "id": "eecd1622",
   "metadata": {},
   "outputs": [
    {
     "name": "stdout",
     "output_type": "stream",
     "text": [
      "rose is a red flower\n",
      "0\n",
      "lily is a white flower\n",
      "1\n",
      "lavender is a purple flower\n",
      "2\n",
      "sunflower is a yellow flower\n",
      "3\n"
     ]
    }
   ],
   "source": [
    "dic = {\"name\":[\"rose\",\"lily\",\"lavender\",\"sunflower\"],\"color\":[\"red\",\"white\",\"purple\",\"yellow\"]}\n",
    "       \n",
    "for a in range(4):\n",
    "       print(\"{} is a {} flower\".format(dic[\"name\"][a],dic[\"color\"][a]))\n",
    "       print(a)"
   ]
  },
  {
   "cell_type": "code",
   "execution_count": 37,
   "id": "e10d6323",
   "metadata": {},
   "outputs": [
    {
     "name": "stdout",
     "output_type": "stream",
     "text": [
      "[0, 1, 2, 3, 4]\n"
     ]
    }
   ],
   "source": [
    "a=range(5)\n",
    "print(list(a))\n"
   ]
  },
  {
   "cell_type": "code",
   "execution_count": null,
   "id": "2fe9a00a",
   "metadata": {},
   "outputs": [],
   "source": []
  },
  {
   "cell_type": "code",
   "execution_count": 51,
   "id": "251b8bd4",
   "metadata": {},
   "outputs": [
    {
     "name": "stdout",
     "output_type": "stream",
     "text": [
      "0 * 0 = 0\n",
      "1 * 1 = 1\n",
      "2 * 2 = 2\n",
      "3 * 3 = 3\n",
      "4 * 4 = 4\n",
      "5 * 5 = 5\n",
      "6 * 6 = 6\n",
      "7 * 7 = 7\n",
      "8 * 8 = 8\n",
      "9 * 9 = 9\n"
     ]
    }
   ],
   "source": [
    "\n",
    "for x in range(10):\n",
    "    print(\"{} * {} = {}\".format(x,x,1*x))\n",
    "    "
   ]
  },
  {
   "cell_type": "code",
   "execution_count": 81,
   "id": "99e24fa9",
   "metadata": {},
   "outputs": [
    {
     "name": "stdout",
     "output_type": "stream",
     "text": [
      "\n",
      "1*1=1\t1*2=2\t1*3=3\t1*4=4\t1*5=5\t1*6=6\t1*7=7\t1*8=8\t1*9=9\t\n",
      "2*1=2\t2*2=4\t2*3=6\t2*4=8\t2*5=10\t2*6=12\t2*7=14\t2*8=16\t2*9=18\t\n",
      "3*1=3\t3*2=6\t3*3=9\t3*4=12\t3*5=15\t3*6=18\t3*7=21\t3*8=24\t3*9=27\t\n",
      "4*1=4\t4*2=8\t4*3=12\t4*4=16\t4*5=20\t4*6=24\t4*7=28\t4*8=32\t4*9=36\t\n",
      "5*1=5\t5*2=10\t5*3=15\t5*4=20\t5*5=25\t5*6=30\t5*7=35\t5*8=40\t5*9=45\t\n",
      "6*1=6\t6*2=12\t6*3=18\t6*4=24\t6*5=30\t6*6=36\t6*7=42\t6*8=48\t6*9=54\t\n",
      "7*1=7\t7*2=14\t7*3=21\t7*4=28\t7*5=35\t7*6=42\t7*7=49\t7*8=56\t7*9=63\t\n",
      "8*1=8\t8*2=16\t8*3=24\t8*4=32\t8*5=40\t8*6=48\t8*7=56\t8*8=64\t8*9=72\t\n",
      "9*1=9\t9*2=18\t9*3=27\t9*4=36\t9*5=45\t9*6=54\t9*7=63\t9*8=72\t9*9=81\t"
     ]
    }
   ],
   "source": [
    "for n in range(1,10):\n",
    "    print(\"\")\n",
    "    for x in range(1,10):\n",
    "        print(\"{}*{}={}\".format(n,x,n*x),end=\"\\t\")\n",
    "    \n",
    "    "
   ]
  },
  {
   "cell_type": "code",
   "execution_count": 84,
   "id": "8b8d7e1a",
   "metadata": {},
   "outputs": [
    {
     "name": "stdout",
     "output_type": "stream",
     "text": [
      "\n",
      "1*1= 1\t1*2= 2\t1*3= 3\t1*4= 4\t1*5= 5\t1*6= 6\t1*7= 7\t1*8= 8\t1*9= 9\t\n",
      "2*1= 2\t2*2= 4\t2*3= 6\t2*4= 8\t2*5= 10\t2*6= 12\t2*7= 14\t2*8= 16\t2*9= 18\t\n",
      "3*1= 3\t3*2= 6\t3*3= 9\t3*4= 12\t3*5= 15\t3*6= 18\t3*7= 21\t3*8= 24\t3*9= 27\t\n",
      "4*1= 4\t4*2= 8\t4*3= 12\t4*4= 16\t4*5= 20\t4*6= 24\t4*7= 28\t4*8= 32\t4*9= 36\t\n",
      "5*1= 5\t5*2= 10\t5*3= 15\t5*4= 20\t5*5= 25\t5*6= 30\t5*7= 35\t5*8= 40\t5*9= 45\t\n",
      "6*1= 6\t6*2= 12\t6*3= 18\t6*4= 24\t6*5= 30\t6*6= 36\t6*7= 42\t6*8= 48\t6*9= 54\t\n",
      "7*1= 7\t7*2= 14\t7*3= 21\t7*4= 28\t7*5= 35\t7*6= 42\t7*7= 49\t7*8= 56\t7*9= 63\t\n",
      "8*1= 8\t8*2= 16\t8*3= 24\t8*4= 32\t8*5= 40\t8*6= 48\t8*7= 56\t8*8= 64\t8*9= 72\t\n",
      "9*1= 9\t9*2= 18\t9*3= 27\t9*4= 36\t9*5= 45\t9*6= 54\t9*7= 63\t9*8= 72\t9*9= 81\t"
     ]
    }
   ],
   "source": [
    "for n in range(1,10):\n",
    "    print()\n",
    "    for x in range(1,10):\n",
    "        print(f'{n}*{x}=',n*x,end='\\t')"
   ]
  },
  {
   "cell_type": "code",
   "execution_count": 88,
   "id": "5805efcd",
   "metadata": {},
   "outputs": [
    {
     "name": "stdout",
     "output_type": "stream",
     "text": [
      "105\n",
      "252\n",
      "False\n"
     ]
    }
   ],
   "source": [
    "x=int(input())\n",
    "y=int(input())\n",
    "\n",
    "while x>0:\n",
    "    x=x>y\n",
    "    \n",
    "print()"
   ]
  }
 ],
 "metadata": {
  "kernelspec": {
   "display_name": "Python 3 (ipykernel)",
   "language": "python",
   "name": "python3"
  },
  "language_info": {
   "codemirror_mode": {
    "name": "ipython",
    "version": 3
   },
   "file_extension": ".py",
   "mimetype": "text/x-python",
   "name": "python",
   "nbconvert_exporter": "python",
   "pygments_lexer": "ipython3",
   "version": "3.9.15"
  }
 },
 "nbformat": 4,
 "nbformat_minor": 5
}
