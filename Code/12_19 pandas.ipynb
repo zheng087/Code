{
 "cells": [
  {
   "cell_type": "code",
   "execution_count": 23,
   "id": "ed90ba5e",
   "metadata": {},
   "outputs": [
    {
     "name": "stdout",
     "output_type": "stream",
     "text": [
      "6\n",
      "--------------------\n",
      "0      APPLE\n",
      "1    SAMSUNG\n",
      "2         MI\n",
      "3       SONY\n",
      "4      NOKIA\n",
      "5        ROG\n",
      "dtype: object\n",
      "--------------------\n",
      "0      apple\n",
      "1    samsung\n",
      "2         mi\n",
      "3       sony\n",
      "4      nokia\n",
      "5        rog\n",
      "dtype: object\n",
      "--------------------\n",
      "0     True\n",
      "1    False\n",
      "2    False\n",
      "3    False\n",
      "4    False\n",
      "5    False\n",
      "dtype: bool\n",
      "--------------------\n",
      "apple/samsung/mi/sony/nokia/rog\n",
      "--------------------\n",
      "0    apple\n",
      "1     oppo\n",
      "2       mi\n",
      "3     sony\n",
      "4    nokia\n",
      "5      rog\n",
      "dtype: object\n",
      "--------------------\n"
     ]
    },
    {
     "name": "stderr",
     "output_type": "stream",
     "text": [
      "/var/folders/jb/mp7nggy97k59ky0kx45s0cbr0000gn/T/ipykernel_19787/3159719996.py:6: FutureWarning: The series.append method is deprecated and will be removed from pandas in a future version. Use pandas.concat instead.\n",
      "  phone = phone0.append(phone1,ignore_index = True)           #合併     #ignore_index 忽略原始索引值\n"
     ]
    }
   ],
   "source": [
    "import pandas as pd\n",
    "phone0 = pd.Series([\"apple\",\"samsung\",\"mi\",\"sony\"],        #pandas 建立物件\n",
    "                 index=[\"p1\",\"p2\",\"p3\",\"p4\"])             #index 建立索引值\n",
    "phone1 = pd.Series([\"nokia\",\"rog\"],\n",
    "                  index=[\"p5\",\"p6\"])                      \n",
    "phone = phone0.append(phone1,ignore_index = True)           #合併     #ignore_index 忽略原始索引值\n",
    "\n",
    "print(phone.size)      #取得資料筆數\n",
    "print(\"--------------------\")\n",
    "print(phone.str.upper())  #字串轉大寫\n",
    "print(\"--------------------\")\n",
    "print(phone.str.lower())  #字串轉小寫\n",
    "print(\"--------------------\")\n",
    "print(phone.str.contains(\"ap\"))  #收尋是否包含特定字串\n",
    "print(\"--------------------\")\n",
    "print(phone.str.cat(sep = \"/\"))  #自訂分隔符號\n",
    "print(\"--------------------\")\n",
    "print(phone.str.replace(\"samsung\",\"oppo\"))  #samsung 取代為 oppo\n",
    "print(\"--------------------\")"
   ]
  },
  {
   "cell_type": "code",
   "execution_count": 29,
   "id": "8bac2a15",
   "metadata": {},
   "outputs": [
    {
     "name": "stdout",
     "output_type": "stream",
     "text": [
      "67\n",
      "--------------------\n",
      "12\n",
      "--------------------\n",
      "237\n",
      "--------------------\n",
      "39.5\n",
      "--------------------\n",
      "5    67\n",
      "4    56\n",
      "dtype: int64\n",
      "--------------------\n",
      "0    12\n",
      "1    23\n",
      "dtype: int64\n"
     ]
    }
   ],
   "source": [
    "numbers = pd.Series([12,23,34,45,56,67])\n",
    "print(numbers.max())  #最大數值\n",
    "print(\"--------------------\")\n",
    "print(numbers.min())  #最小數值\n",
    "print(\"--------------------\")\n",
    "print(numbers.sum())  #加總\n",
    "print(\"--------------------\")\n",
    "print(numbers.mean()) #平均\n",
    "print(\"--------------------\")\n",
    "print(numbers.nlargest(2))  #最大的兩個數值\n",
    "print(\"--------------------\")\n",
    "print(numbers.nsmallest(2)) #最小的兩個數值\n"
   ]
  },
  {
   "cell_type": "code",
   "execution_count": 28,
   "id": "dc3440ac",
   "metadata": {},
   "outputs": [
    {
     "name": "stdout",
     "output_type": "stream",
     "text": [
      "      name  math_score  chinese_score\n",
      "s1    Mike          80             63\n",
      "s2  Sherry          75             90\n",
      "s3   Cindy          93             85\n",
      "s4    John          86             70\n",
      "-------------\n",
      "      name  math_score  chinese_score\n",
      "s1    Mike          80             63\n",
      "s2  Sherry          75             90\n",
      "------取得單一欄位資料(類型為Series)-------\n",
      "s1      Mike\n",
      "s2    Sherry\n",
      "s3     Cindy\n",
      "s4      John\n",
      "Name: name, dtype: object\n",
      "-------------\n",
      "      name\n",
      "s1    Mike\n",
      "s2  Sherry\n",
      "s3   Cindy\n",
      "s4    John\n",
      "-------------\n",
      "      name\n",
      "s1    Mike\n",
      "s2  Sherry\n",
      "s3   Cindy\n",
      "s4    John\n",
      "-------------\n",
      "      name  math_score  chinese_score\n",
      "s1    Mike          80             63\n",
      "s2  Sherry          75             90\n",
      "s3   Cindy          93             85\n",
      "------at(x,y) 取得x列 y欄的資料  at(key,key)-------\n",
      "Mike\n",
      "------iat(key,欄位索引值)-------\n",
      "Mike\n",
      "------取得多筆資料-------\n",
      "     name  math_score\n",
      "1    Mike          80\n",
      "2  Sherry          75\n",
      "     name    name\n",
      "2  Sherry  Sherry\n",
      "3   Cindy   Cindy\n",
      "------新增dataframe 資料(欄)-------\n",
      "     name  math_score  english  chinese_score\n",
      "1    Mike          80       88             63\n",
      "2  Sherry          75       72             90\n",
      "3   Cindy          93       74             85\n",
      "4    John          86       98             70\n",
      "-----新增dataframe 資料(列)--------\n",
      "     name  math_score  english  chinese_score\n",
      "0    Mike          80       88             63\n",
      "1  Sherry          75       72             90\n",
      "2   Cindy          93       74             85\n",
      "3    John          86       98             70\n",
      "4   Henry          60       70             88\n",
      "-----------------\n",
      "     name  math_score  chinese_score\n",
      "1    Mike          80             63\n",
      "2  Sherry          75             90\n",
      "3   Cindy          93             85\n",
      "4    John          86             70\n",
      "----篩選-------\n",
      "    name  math_score  english  chinese_score\n",
      "3  Cindy          93       74             85\n",
      "4   John          86       98             70\n"
     ]
    },
    {
     "name": "stderr",
     "output_type": "stream",
     "text": [
      "/var/folders/jb/mp7nggy97k59ky0kx45s0cbr0000gn/T/ipykernel_1053/1588174332.py:37: FutureWarning: The frame.append method is deprecated and will be removed from pandas in a future version. Use pandas.concat instead.\n",
      "  new_df = df.append({\n"
     ]
    }
   ],
   "source": [
    "import pandas as pd\n",
    "\n",
    "\n",
    "grades = {\n",
    "    \"name\":[\"Mike\",\"Sherry\",\"Cindy\",\"John\"],\n",
    "    \"math\":[80,75,93,86],\n",
    "    \"chinese\":[63,90,85,70]\n",
    "}\n",
    "\n",
    "df = pd.DataFrame(grades)\n",
    "df.index = [\"s1\",\"s2\",\"s3\",\"s4\"]   #自訂索引列\n",
    "df.columns = [\"name\",\"math_score\",\"chinese_score\"] #自訂欄位名稱\n",
    "print(df)\n",
    "print(\"-------------\")\n",
    "new_df = df.head(2)\n",
    "print(new_df)\n",
    "print(\"------取得單一欄位資料(類型為Series)\"\"-------\")\n",
    "print(df[\"name\"])  #取得單一欄位資料(類型為Series)\n",
    "print(\"-------------\")\n",
    "print(df[[\"name\"]])\n",
    "print(\"-------------\")\n",
    "print(df[[\"name\",]])\n",
    "print(\"-------------\")\n",
    "print(df[0:3])\n",
    "print(\"------at(x,y) 取得x列 y欄的資料  at(key,key)\"\"-------\")\n",
    "print(df.at[\"s1\",\"name\"])   # at(x,y) 取得x列 y欄的資料  at(key,key)\n",
    "print(\"------iat(key,欄位索引值)\"\"-------\")\n",
    "df.index = [1,2,3,4]\n",
    "print(df.iat[0,0])           #iat(key,欄位索引值)\n",
    "print(\"------取得多筆資料-------\")\n",
    "print(df.loc[[1,2],[\"name\",\"math_score\"]])   #取得多筆資料\n",
    "print(df.iloc[[1,2],[0,0]])\n",
    "print(\"------新增dataframe 資料(欄)\"\"-------\")\n",
    "df.insert(2,column = \"english\",value =[88,72,74,98])  #新增dataframe 資料\n",
    "print(df)\n",
    "print(\"-----新增dataframe 資料(列)\"\"--------\")\n",
    "new_df = df.append({\n",
    "    \"name\":\"Henry\",\n",
    "    \"math_score\":60,\n",
    "    \"english\":70,\n",
    "    \"chinese_score\":88\n",
    "},ignore_index = True)\n",
    "print(new_df)\n",
    "print(\"-----------------\")\n",
    "new_df = df.drop([\"english\"],axis=1)\n",
    "print(new_df)\n",
    "\n",
    "\n",
    "\n",
    "#dropna() 刪除有na的列\n",
    "#drop_duplicates() 刪除重複的列\n",
    "print(\"----篩選-------\")\n",
    "print(df[df[\"math_score\"]>80])\n",
    "\n"
   ]
  },
  {
   "cell_type": "code",
   "execution_count": 3,
   "id": "6b12ff74",
   "metadata": {},
   "outputs": [
    {
     "name": "stdout",
     "output_type": "stream",
     "text": [
      "       0   1   2\n",
      "0   Mike  80  63\n",
      "1  Shrry  75  90\n",
      "2  Cindy  93  85\n",
      "3   John  86  70\n"
     ]
    }
   ],
   "source": [
    "grades = [\n",
    "    [\"Mike\",80,63],\n",
    "    [\"Shrry\",75,90],\n",
    "    [\"Cindy\",93,85],\n",
    "    [\"John\",86,70]\n",
    "]\n",
    "new_df = pd.DataFrame(grades)\n",
    "print(new_df)"
   ]
  },
  {
   "cell_type": "code",
   "execution_count": 1,
   "id": "c69e77e6",
   "metadata": {},
   "outputs": [],
   "source": [
    "#import pandas as pd\n",
    "#exl = pd.read.excel(\"testtest.xlsx\")"
   ]
  },
  {
   "cell_type": "code",
   "execution_count": null,
   "id": "b4aa33fa",
   "metadata": {},
   "outputs": [],
   "source": []
  }
 ],
 "metadata": {
  "kernelspec": {
   "display_name": "Python 3 (ipykernel)",
   "language": "python",
   "name": "python3"
  },
  "language_info": {
   "codemirror_mode": {
    "name": "ipython",
    "version": 3
   },
   "file_extension": ".py",
   "mimetype": "text/x-python",
   "name": "python",
   "nbconvert_exporter": "python",
   "pygments_lexer": "ipython3",
   "version": "3.9.15"
  }
 },
 "nbformat": 4,
 "nbformat_minor": 5
}
