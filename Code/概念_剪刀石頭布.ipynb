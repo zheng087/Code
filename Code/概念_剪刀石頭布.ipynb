{
 "cells": [
  {
   "cell_type": "code",
   "execution_count": null,
   "id": "46418c8d",
   "metadata": {},
   "outputs": [],
   "source": []
  },
  {
   "cell_type": "code",
   "execution_count": 42,
   "id": "fb892ed7",
   "metadata": {},
   "outputs": [
    {
     "name": "stdout",
     "output_type": "stream",
     "text": [
      "第一個數 123\n",
      "第二個數 213\n",
      "3\n"
     ]
    }
   ],
   "source": [
    "x=int(input(\"第一個數 \"))\n",
    "y=int(input(\"第二個數 \"))\n",
    "\n",
    "while x>0 and y>0:\n",
    "    if x>y:\n",
    "        x=x%y\n",
    "    else:\n",
    "        y=y%x\n",
    "if x==0:\n",
    "    print(y)\n",
    "else:\n",
    "    print(x)\n",
    "\n",
    "\"\"\"\"\n",
    "c=a%b\n",
    "a=b\n",
    "b=c\n",
    "\n",
    "    \n",
    "    \n"
   ]
  },
  {
   "cell_type": "code",
   "execution_count": null,
   "id": "2f77ee47",
   "metadata": {},
   "outputs": [],
   "source": [
    "x=int(input(\"第一個數 \"))\n",
    "y=int(input(\"第二個數 \"))\n",
    "\n",
    "while x>0 and y>0:\n",
    "    if x>y:\n",
    "        x=x%y\n",
    "    else:\n",
    "        y=y%x\n",
    "if x==0:\n",
    "    print(y)\n",
    "else:\n",
    "    print(x)"
   ]
  },
  {
   "cell_type": "code",
   "execution_count": null,
   "id": "3555ace6",
   "metadata": {},
   "outputs": [],
   "source": []
  },
  {
   "cell_type": "code",
   "execution_count": 51,
   "id": "d84ac69a",
   "metadata": {},
   "outputs": [
    {
     "name": "stdout",
     "output_type": "stream",
     "text": [
      "第一個數 252\n",
      "第二個數 105\n",
      "21\n"
     ]
    }
   ],
   "source": [
    "a=int(input(\"第一個數 \"))\n",
    "b=int(input(\"第二個數 \"))\n",
    "while a%b != 0:\n",
    "    x = b\n",
    "    y = a%b\n",
    "    x/y\n",
    "    a=b\n",
    "    b=y\n",
    "print(b)"
   ]
  },
  {
   "cell_type": "code",
   "execution_count": 52,
   "id": "2df4ade8",
   "metadata": {},
   "outputs": [
    {
     "name": "stdout",
     "output_type": "stream",
     "text": [
      "第一個數 105\n",
      "第二個數 252\n",
      "21\n"
     ]
    }
   ],
   "source": [
    "a=int(input(\"第一個數 \"))\n",
    "b=int(input(\"第二個數 \"))\n",
    "\n",
    "while a%b != 0:  \n",
    "    y = a%b\n",
    "    b/y\n",
    "    a=b\n",
    "    b=y\n",
    "print(b)"
   ]
  },
  {
   "cell_type": "code",
   "execution_count": 54,
   "id": "38b5f978",
   "metadata": {},
   "outputs": [
    {
     "name": "stdout",
     "output_type": "stream",
     "text": [
      "請輸入數字105 252\n",
      "21\n"
     ]
    }
   ],
   "source": [
    "a,b = map(int,input(\"請輸入數字\").split())\n",
    "while b:\n",
    "    a,b=b,a%b\n",
    "print(a)\n"
   ]
  },
  {
   "cell_type": "code",
   "execution_count": 87,
   "id": "93f152eb",
   "metadata": {},
   "outputs": [
    {
     "name": "stdout",
     "output_type": "stream",
     "text": [
      "rock,paper,scissors     rock\n",
      "\n",
      "    _______\n",
      "---'   ____)\n",
      "      (_____)\n",
      "      (_____)\n",
      "      (____)\n",
      "---.__(___)\n",
      "\n",
      "vs \n",
      "    _______\n",
      "---'   ____)____\n",
      "          ______)\n",
      "       __________)\n",
      "      (____)\n",
      "---.__(___)\n",
      "\n",
      "win\n"
     ]
    }
   ],
   "source": [
    "import random\n",
    "\n",
    "rock = '''\n",
    "    _______\n",
    "---'   ____)\n",
    "      (_____)\n",
    "      (_____)\n",
    "      (____)\n",
    "---.__(___)\n",
    "'''\n",
    "\n",
    "paper = '''\n",
    "    _______\n",
    "---'   ____)____\n",
    "          ______)\n",
    "          _______)\n",
    "         _______)\n",
    "---.__________)\n",
    "'''\n",
    "\n",
    "scissors = '''\n",
    "    _______\n",
    "---'   ____)____\n",
    "          ______)\n",
    "       __________)\n",
    "      (____)\n",
    "---.__(___)\n",
    "'''\n",
    "y=[rock,paper,scissors]\n",
    "you=random.choice(y)\n",
    "me = input(\"rock,paper,scissors     \")\n",
    "if me == \"rock\":\n",
    "    print(rock)\n",
    "    print(\"vs\",you)\n",
    "    if you==paper:\n",
    "        print(\"lose\")\n",
    "    elif you==rock:\n",
    "        print(\"平手\")\n",
    "    else:\n",
    "        print(\"win\")\n",
    "elif me==\"paper\":\n",
    "    print(paper)\n",
    "    print(\"vs\",you)\n",
    "    if you==paper:\n",
    "        print(\"平手\")\n",
    "    elif you==rock:\n",
    "        print(\"win\")\n",
    "    else:\n",
    "        print(\"lose\")\n",
    "else:\n",
    "    print(scissors)\n",
    "    print(\"vs\",you)\n",
    "    if you==paper:\n",
    "        print(\"win\")\n",
    "    elif you==rock:\n",
    "        print(\"lose\")\n",
    "    else:\n",
    "        print(\"平手\")\n"
   ]
  },
  {
   "cell_type": "code",
   "execution_count": null,
   "id": "3b9737d8",
   "metadata": {},
   "outputs": [],
   "source": []
  },
  {
   "cell_type": "code",
   "execution_count": null,
   "id": "24f55c04",
   "metadata": {},
   "outputs": [],
   "source": []
  }
 ],
 "metadata": {
  "kernelspec": {
   "display_name": "Python 3 (ipykernel)",
   "language": "python",
   "name": "python3"
  },
  "language_info": {
   "codemirror_mode": {
    "name": "ipython",
    "version": 3
   },
   "file_extension": ".py",
   "mimetype": "text/x-python",
   "name": "python",
   "nbconvert_exporter": "python",
   "pygments_lexer": "ipython3",
   "version": "3.9.15"
  }
 },
 "nbformat": 4,
 "nbformat_minor": 5
}
