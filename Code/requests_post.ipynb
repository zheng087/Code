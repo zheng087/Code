{
 "cells": [
  {
   "cell_type": "code",
   "execution_count": null,
   "id": "10b3f7ec",
   "metadata": {},
   "outputs": [],
   "source": []
  },
  {
   "cell_type": "code",
   "execution_count": 100,
   "id": "33b91333",
   "metadata": {},
   "outputs": [
    {
     "name": "stdout",
     "output_type": "stream",
     "text": [
      "商業智慧大數據資料圖形化設計班第01期\n",
      "(社團法人新竹市職訓教育協會)\n",
      "------------------\n",
      "企業大數據分析與產業智慧基礎班第02期\n",
      "(財團法人中國生產力中心附設中區服務處)\n",
      "------------------\n",
      "智慧大數據分析Power BI Desktop實務活用班第01期\n",
      "(財團法人中國生產力中心附設台南服務處)\n",
      "------------------\n",
      "物聯網大數據資料分析應用班第01期\n",
      "(社團法人中華成人教育認證協會)\n",
      "------------------\n",
      "Python大數據資料分析統計應用實務班第02期\n",
      "(財團法人成大研究發展基金會)\n",
      "------------------\n"
     ]
    }
   ],
   "source": [
    "import requests\n",
    "from bs4 import BeautifulSoup\n",
    "fd = {\n",
    "    \"Form.PlanType\":\"1\",\n",
    "    \"Form.OCID\":None,\n",
    "    \"Form.KEYWORDS\":None,\n",
    "    \"Form.CLASSCNAME\":\"大數據\",\n",
    "    \"Form.CASETYPE\":\"0\",\n",
    "    \"Form.STDATE_YEAR_SHOW\":\"111\",\n",
    "    \"Form.STDATE_MON\":\"11\",\n",
    "    \"Form.FTDATE_YEAR_SHOW\":\"112\",\n",
    "    \"Form.FTDATE_MON\":\"3\",\n",
    "    \"Form.TEACHCNAME\":None,\n",
    "    \"Form.COMIDNO\":None ,\n",
    "    \"Form.CTID\":None ,\n",
    "    \"Form.ZIPCODE\":None, \n",
    "    \"Form.SCHOOLNAME\":None, \n",
    "    \"Form.ORGKIND\":None,\n",
    "    \"Form.CLASSCATE\":None,\n",
    "    \"Form.JOBTMID\":None,\n",
    "    \"Form.TMID\":None,\n",
    "    \"Form.TGOVEXAM\":None,\n",
    "    \"__SECURITY_FORM_ID__\":\"MkaBRmuqHClN7Ea4fOCQX/Qp81x7WeK40T2adQ72GYc=\"\n",
    "}\n",
    "url = \"https://ojt.wda.gov.tw/ClassSearch\"\n",
    "\n",
    "res = requests.post(url,fd)\n",
    "soup = BeautifulSoup(res.text)\n",
    "\n",
    "\n",
    "for cls in soup.find_all(\"td\",headers=\"tb1-b\"):\n",
    "    print(cls.a.text)\n",
    "    print(\"------------------\")\n",
    "\n",
    "\n"
   ]
  },
  {
   "cell_type": "code",
   "execution_count": null,
   "id": "e9fe234d",
   "metadata": {},
   "outputs": [],
   "source": []
  },
  {
   "cell_type": "code",
   "execution_count": null,
   "id": "822b66d2",
   "metadata": {},
   "outputs": [],
   "source": []
  }
 ],
 "metadata": {
  "kernelspec": {
   "display_name": "Python 3 (ipykernel)",
   "language": "python",
   "name": "python3"
  },
  "language_info": {
   "codemirror_mode": {
    "name": "ipython",
    "version": 3
   },
   "file_extension": ".py",
   "mimetype": "text/x-python",
   "name": "python",
   "nbconvert_exporter": "python",
   "pygments_lexer": "ipython3",
   "version": "3.9.15"
  }
 },
 "nbformat": 4,
 "nbformat_minor": 5
}
