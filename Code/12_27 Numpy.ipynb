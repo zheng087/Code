{
 "cells": [
  {
   "cell_type": "code",
   "execution_count": 4,
   "id": "1e4b5191",
   "metadata": {},
   "outputs": [
    {
     "name": "stdout",
     "output_type": "stream",
     "text": [
      "1\n",
      "(3,)\n",
      "int64\n"
     ]
    }
   ],
   "source": [
    "import numpy as np\n",
    "np1 = np.array([1,2,3])\n",
    "np2 = np.array([4,5,6])\n",
    "\n",
    "print(np1.ndim) #維度\n",
    "print(np1.shape) #形狀\n",
    "print(np1.dtype) #資料型態"
   ]
  },
  {
   "cell_type": "code",
   "execution_count": 6,
   "id": "a387268b",
   "metadata": {},
   "outputs": [
    {
     "name": "stdout",
     "output_type": "stream",
     "text": [
      "[[0 0 0]\n",
      " [0 0 0]]\n",
      "[[1 1]\n",
      " [1 1]\n",
      " [1 1]]\n"
     ]
    }
   ],
   "source": [
    "#建立填滿0或1的陣列\n",
    "\n",
    "np1 = np.zeros([2,3],int)  # ([2列,3欄],dtype:int) 的 0\n",
    "\n",
    "np2 = np.ones([3,2],int)   # ([3列,2欄],dtype:int) 的 1\n",
    "\n",
    "print(np1)\n",
    "print(np2)"
   ]
  },
  {
   "cell_type": "code",
   "execution_count": 8,
   "id": "b856bf52",
   "metadata": {},
   "outputs": [
    {
     "name": "stdout",
     "output_type": "stream",
     "text": [
      "[[4. 4.]\n",
      " [4. 4.]\n",
      " [4. 4.]]\n",
      "[[1. 0. 0. 0. 0.]\n",
      " [0. 1. 0. 0. 0.]\n",
      " [0. 0. 1. 0. 0.]\n",
      " [0. 0. 0. 1. 0.]\n",
      " [0. 0. 0. 0. 1.]]\n"
     ]
    }
   ],
   "source": [
    "建立填滿特定數的陣列\n",
    "\n",
    "np1 = np.full((3,2),4,float)\n",
    "print(np1)\n",
    "\n",
    "np2 = np.eye(5)  #(大小,M=指定col,k=初始位置,dtype)\n",
    "\n",
    "print(np2)"
   ]
  },
  {
   "cell_type": "code",
   "execution_count": 11,
   "id": "67d3b6d7",
   "metadata": {},
   "outputs": [
    {
     "name": "stdout",
     "output_type": "stream",
     "text": [
      "[ 1  3  5  7 10]\n",
      "(array([ 1,  3,  5,  7, 10]), 2.25)\n"
     ]
    }
   ],
   "source": [
    "np1 = np.linspace(1,10,5,1,0,dtype=int)#(開始,結束,間距,結尾值(1(True)or 0(False),回傳模式(1(True)or 0(False),dtype)\n",
    "print(np1)       \n",
    "np2 = np.linspace(1,10,5,1,1,dtype=int)\n",
    "print(np2)\n",
    "np3 = np.linspace(1,10,5,0,0,dtype=int)\n",
    "\n",
    "np4 = np.arange(10)  #(開始,結束,間距，資料型態)"
   ]
  },
  {
   "cell_type": "code",
   "execution_count": 15,
   "id": "9824ab56",
   "metadata": {},
   "outputs": [
    {
     "name": "stdout",
     "output_type": "stream",
     "text": [
      "[[28 31 31]\n",
      " [46 49 49]\n",
      " [64 67 67]]\n",
      "[[28 31 31]\n",
      " [46 49 49]\n",
      " [64 67 67]]\n"
     ]
    }
   ],
   "source": [
    "#dot\n",
    "\n",
    "data1 = np.array([[4,5,6],[7,8,9],[10,11,12]])\n",
    "data2 = np.array([[3,1,2],[2,3,1],[1,2,3]])\n",
    "\n",
    "print(np.dot(data1,data2))\n",
    "print(data1.dot(data2))"
   ]
  },
  {
   "cell_type": "code",
   "execution_count": null,
   "id": "74ee7c4c",
   "metadata": {},
   "outputs": [],
   "source": []
  }
 ],
 "metadata": {
  "kernelspec": {
   "display_name": "Python 3 (ipykernel)",
   "language": "python",
   "name": "python3"
  },
  "language_info": {
   "codemirror_mode": {
    "name": "ipython",
    "version": 3
   },
   "file_extension": ".py",
   "mimetype": "text/x-python",
   "name": "python",
   "nbconvert_exporter": "python",
   "pygments_lexer": "ipython3",
   "version": "3.9.15"
  }
 },
 "nbformat": 4,
 "nbformat_minor": 5
}
