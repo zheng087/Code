{
 "cells": [
  {
   "cell_type": "code",
   "execution_count": null,
   "id": "8010f17c",
   "metadata": {},
   "outputs": [],
   "source": [
    "import requests\n",
    "import json \n",
    "import time\n",
    "token = \"EAAMaAzCqq7IBAMnwSGgyqCgnziEyKDm78M4cMaMcI7VHZChPQxWqZBpsZCc6UyPMZCBZACRH1vKBWwYif0JVr7kCbLCi1mR3e3wgoZBmWWTZALkyZAIc4TSxCDGZAzIe7XO5KTcNnNIwrB8ggNCnOKocTtxfpOz4sBoLYxySRGMeNpWoQ8GpA8zZA6ZAGsce14G8Y50M9ZB0Ct36o6olRrGEiymE8KAosNZAYGOLHsaZBhZC9GE0FKKaOn28bM9\"\n",
    "res = requests.get(\"https://graph.facebook.com/v15.0/me/posts?access_token=\"+token)\n",
    "js = json.loads(res.text)\n",
    "corpus = []\n",
    "page = 0\n",
    "while js[\"data\"] != []: \n",
    "    for js_massage in js[\"data\"]:\n",
    "        if \"message\" in js_massage:\n",
    "            corpus += jieba.lcut(js_massage[\"message\"]+\"\\n\")\n",
    "    nextpage = js[\"paging\"][\"next\"]\n",
    "    res = requests.get(nextpage)\n",
    "    js = json.loads(res.text)\n",
    "    time.sleep(3)\n",
    "    page+=1\n",
    "    print(\"第\"+str(page)+\"頁\")\n",
    "    \n",
    "print(corpus)"
   ]
  },
  {
   "cell_type": "code",
   "execution_count": null,
   "id": "80924464",
   "metadata": {},
   "outputs": [],
   "source": [
    "import operator\n",
    "dic = {}\n",
    "for ele in corpus:\n",
    "    if ele in dic:\n",
    "        dic[ele]+=1\n",
    "    else:\n",
    "        dic[ele]=1\n",
    "        \n",
    "print(dic)\n",
    "#排序   #item會把key and value放在一起  用operator內的itemgetter選取 用reverse排序\n",
    "sort = sorted(dic.items(),key = operator.itemgetter(1),reverse = True)\n",
    "print(sort)\n",
    "for ele in sort:\n",
    "    if len(ele[0])>1:\n",
    "        print(ele[0],ele[1])\n",
    "    "
   ]
  },
  {
   "cell_type": "code",
   "execution_count": null,
   "id": "63ad16d3",
   "metadata": {},
   "outputs": [],
   "source": [
    "import jieba\n",
    "text = \"說起周木匠，歸德古城附近沒有幾個人不知道的。一手祖傳的木匠手藝沒話說，祖上傳下來的技藝，打牀做櫃子甚至是蓋房子，別說用氣釘槍，就連一根釘子都沒有用過，全部是標準的榫卯結構。有些老家老戶搬新房或者娶媳婦，想打個牀做個櫃子，都會找周木匠幫忙。周木匠的手藝好，人也實在，從不與人計較太多，有錢人家多給倆，他笑呵呵的收了自己應得的那份，沒錢的人家少給兩，他也笑呵呵的不在乎。真要是鄰居實在有困難了，隨便管頓飯，他也幫着幹活，從來沒有半句怨言。\"\n",
    "a = jieba.lcut(text) #精確模式\n",
    "b = jieba.cut(text,cut_all=True) #全模式\n",
    "c = jieba.cut_for_search(text) #搜索模式\n",
    "print(a)"
   ]
  },
  {
   "cell_type": "code",
   "execution_count": null,
   "id": "8c456eae",
   "metadata": {},
   "outputs": [],
   "source": []
  }
 ],
 "metadata": {
  "kernelspec": {
   "display_name": "Python 3 (ipykernel)",
   "language": "python",
   "name": "python3"
  },
  "language_info": {
   "codemirror_mode": {
    "name": "ipython",
    "version": 3
   },
   "file_extension": ".py",
   "mimetype": "text/x-python",
   "name": "python",
   "nbconvert_exporter": "python",
   "pygments_lexer": "ipython3",
   "version": "3.9.15"
  }
 },
 "nbformat": 4,
 "nbformat_minor": 5
}
