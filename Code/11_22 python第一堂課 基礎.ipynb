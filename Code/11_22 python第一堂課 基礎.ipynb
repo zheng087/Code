{
 "cells": [
  {
   "cell_type": "code",
   "execution_count": null,
   "id": "c3f00ed4",
   "metadata": {},
   "outputs": [],
   "source": [
    "y=1000\n",
    "x=\"hello world\"\n",
    "print(\"hello world\")\n",
    "print(x)\n",
    "print(y)"
   ]
  },
  {
   "cell_type": "code",
   "execution_count": null,
   "id": "e081765e",
   "metadata": {},
   "outputs": [],
   "source": [
    "x=1000\n",
    "x=200\n",
    "x=100\n",
    "print(x)"
   ]
  },
  {
   "cell_type": "code",
   "execution_count": null,
   "id": "f6e4fd5f",
   "metadata": {},
   "outputs": [],
   "source": [
    "x=12\n",
    "y=20\n",
    "print(x+y)"
   ]
  },
  {
   "cell_type": "code",
   "execution_count": null,
   "id": "04c0b828",
   "metadata": {
    "scrolled": false
   },
   "outputs": [],
   "source": [
    "a=1\n",
    "b=2\n",
    "c=a+b\n",
    "print(c,type(c))\n",
    "d=a-b\n",
    "print(d,type(d))\n",
    "e=a*b\n",
    "print(e,type(e))\n",
    "f=a/b\n",
    "print(f,type(f))\n",
    "g=a%b\n",
    "print(g,type(g))\n",
    "h=a==b\n",
    "print(h,type(h))\n",
    "i=a**b\n",
    "print(i,type(i))\n",
    "j=a//b\n",
    "print(j,type(j))\n",
    "k=a>b\n",
    "l=a<b\n",
    "print(k,type(k))\n",
    "print(l,type(l))\n",
    "v=\"123\"\n",
    "w=\"一二三\"\n",
    "print()"
   ]
  },
  {
   "cell_type": "code",
   "execution_count": null,
   "id": "e4df5c99",
   "metadata": {
    "scrolled": true
   },
   "outputs": [],
   "source": [
    "\"\"\"字串字串只能+*不能-/\"\"\"\n",
    "#字串數字不能相加減乘除\n",
    "\n",
    "print(v+w)\n",
    "print(c+d)\n",
    "print(v*3)\n",
    "# print(v+d)\n"
   ]
  },
  {
   "cell_type": "code",
   "execution_count": null,
   "id": "800e95d5",
   "metadata": {
    "scrolled": true
   },
   "outputs": [],
   "source": [
    "num=input(\"enter number\")\n",
    "print(num,type(num))"
   ]
  },
  {
   "cell_type": "code",
   "execution_count": null,
   "id": "0dc508b0",
   "metadata": {},
   "outputs": [],
   "source": [
    "#int str互換\n",
    "\n",
    "print(num,type(num))\n",
    "print(int(num),type(int(num)))\n"
   ]
  },
  {
   "cell_type": "code",
   "execution_count": null,
   "id": "2501d19d",
   "metadata": {},
   "outputs": [],
   "source": [
    "#輸入未稅餐點金額，服務費10%、稅額5%，算出最終應付金額\n",
    "\n",
    "num=int(input(\"輸入未稅餐點金額\"))\n",
    "x=1.1\n",
    "y=1.05\n",
    "print(\"最終金額\",round((num*x)*y))\n",
    "\n",
    "#round = 四捨五入\n"
   ]
  },
  {
   "cell_type": "code",
   "execution_count": null,
   "id": "e35eea19",
   "metadata": {},
   "outputs": [],
   "source": [
    "a=a+2\n",
    "a+=2\n",
    "print(a)"
   ]
  },
  {
   "cell_type": "code",
   "execution_count": null,
   "id": "3ae7eb5b",
   "metadata": {},
   "outputs": [],
   "source": [
    "#選取\n",
    "\n",
    "x=\"hello world\"\n",
    "print(x[0])\n",
    "print(x[2:5])     #包含前不包含後\n",
    "print(x[4:7])\n",
    "print(x[4:])\n",
    "print(x[:2])\n",
    "print(x[-1])     "
   ]
  },
  {
   "cell_type": "code",
   "execution_count": null,
   "id": "fef7ee33",
   "metadata": {},
   "outputs": [],
   "source": [
    "#upper(),lower()\n",
    "\n",
    "x=\"Hello World\"\n",
    "print(x.upper())\n",
    "print(x.lower())\n",
    "print(x[:4].lower()+x[4].upper()+x[6:-1].lower()+x[-1].upper())\n"
   ]
  },
  {
   "cell_type": "code",
   "execution_count": null,
   "id": "7a776fc5",
   "metadata": {},
   "outputs": [],
   "source": [
    "#sep 逗號空格改 end 最後換行改\n",
    "\n",
    "print(\"abc\",\"def\",\"ghi\",sep=\"\",end=\"\")\n",
    "print(341234)"
   ]
  },
  {
   "cell_type": "code",
   "execution_count": null,
   "id": "7cf9ae4a",
   "metadata": {},
   "outputs": [],
   "source": [
    "# %s %練習\n",
    "\n",
    "name=input(\"輸入姓名\")\n",
    "\n",
    "print(\"hello %s\" %(name))"
   ]
  },
  {
   "cell_type": "code",
   "execution_count": null,
   "id": "3b1f5da2",
   "metadata": {},
   "outputs": [],
   "source": [
    "#list 列表\n",
    "\n",
    "list=[1,3,4,5,\"67\",[23,45,78,43,23,],9,23,2,3,45]\n",
    "print(list[5][3])\n",
    "\n",
    "lis=[5]\n",
    "print(lis,type(lis))\n",
    "print(lis,type(lis[0]))"
   ]
  },
  {
   "cell_type": "code",
   "execution_count": null,
   "id": "af46830c",
   "metadata": {},
   "outputs": [],
   "source": [
    "#append() 列表加入 insert() 列表插入\n",
    "\n",
    "lis.append(\"abc\")\n",
    "print(lis)\n",
    "lis.insert(2,\"你好\")\n",
    "print(lis)"
   ]
  },
  {
   "cell_type": "code",
   "execution_count": null,
   "id": "5b54b0aa",
   "metadata": {},
   "outputs": [],
   "source": [
    "lisa=[123,345,567,\"abc\"]\n",
    "test=lisa[3].upper()\n",
    "lisa[-1]=test\n",
    "print(lisa)\n"
   ]
  },
  {
   "cell_type": "code",
   "execution_count": null,
   "id": "59eb6fec",
   "metadata": {},
   "outputs": [],
   "source": [
    "lisa=[123,345,567,\"abc\"]\n",
    "lisa[3]=lisa[3].upper()\n",
    "print(lisa)"
   ]
  },
  {
   "cell_type": "code",
   "execution_count": null,
   "id": "36346877",
   "metadata": {},
   "outputs": [],
   "source": [
    "lisa=[123,345,567,\"abc\"]\n",
    "print(lisa[3].upper())"
   ]
  },
  {
   "cell_type": "code",
   "execution_count": null,
   "id": "c23bb2b4",
   "metadata": {},
   "outputs": [],
   "source": [
    "dic={\"123\":[\"456\",\"789\"],\"qwe\":[\"rty\",\"uio\"]}\n",
    "print(dic[\"123\"][0])"
   ]
  },
  {
   "cell_type": "code",
   "execution_count": null,
   "id": "e462c241",
   "metadata": {},
   "outputs": [],
   "source": [
    "#請從以下資料格式內依序檢索出p,y,t,h,o,n\n",
    "dic2 = {3:{5.9:\"go\",\"hi\":881},\"www\":[\"fish\",\"crab\",\"squid\",123],\"XD\":\"ya\",\"3.14\":[99,[12,\"pay\",\"usd\",{\"train\":{\"taiwan\":[\"taipei\",\"keelung\"],55:88},\"stop\":\"nope\"},19],\"wait\"],\n",
    "        \"THX\":\"辛苦了\"}\n",
    "\n",
    "print(dic2[\"3.14\"][1][1][0])\n",
    "print(dic2[\"XD\"][0][0])\n",
    "print(dic2[\"3.14\"][1][3][\"train\"][\"taiwan\"][0][0])\n",
    "print(dic2[\"www\"][0][3])\n",
    "print(dic2[3][5.9][1])\n",
    "print(dic2[\"3.14\"][1][3]['train'][\"taiwan\"][1][5])"
   ]
  },
  {
   "cell_type": "code",
   "execution_count": null,
   "id": "3d1ded7c",
   "metadata": {},
   "outputs": [],
   "source": [
    "a=4\n",
    "b=7\n",
    "c=12\n",
    "if not a>b and not a>7:\n",
    "    print(a+b)\n",
    "elif a==b or b==7:\n",
    "    print(b-a)\n",
    "else:print(\"123\")\n",
    "    "
   ]
  },
  {
   "cell_type": "code",
   "execution_count": null,
   "id": "b8770c91",
   "metadata": {},
   "outputs": [],
   "source": [
    "a=\"左\"\n",
    "b=\"左邊\"\n",
    "c=\"右\"\n",
    "d=\"右邊\"\n",
    "e=input(\"請輸入\")\n",
    "\n",
    "if e == a or e == b:\n",
    "    print(\"win\")\n",
    "elif e == c or e == d:\n",
    "    print(\"lose\")\n",
    "else:\n",
    "    print(\"無法辨識\")\n",
    "\n"
   ]
  },
  {
   "cell_type": "code",
   "execution_count": null,
   "id": "024af96e",
   "metadata": {
    "scrolled": true
   },
   "outputs": [],
   "source": [
    "#for迴圈\n",
    "\n",
    "lis=[1,4,6,7,4,3,3,3,2,6]\n",
    "\n",
    "for qqq in lis:\n",
    "    www=qqq+1\n",
    "    print(www)\n",
    "    \n",
    "lin=\"hello world\"\n",
    "for c in lin:\n",
    "    c=c+\"0\"\n",
    "    print(c,end=\"/\")"
   ]
  },
  {
   "cell_type": "code",
   "execution_count": null,
   "id": "7dee814a",
   "metadata": {},
   "outputs": [],
   "source": [
    "dic={\"fish\":200,\"rice\":100}\n",
    "\n",
    "for meal in dic:\n",
    "    print(meal,dic[meal])\n",
    "    "
   ]
  },
  {
   "cell_type": "code",
   "execution_count": null,
   "id": "69bf52a3",
   "metadata": {},
   "outputs": [],
   "source": [
    "v=100\n",
    "while v<1000 :\n",
    "    print(v)\n",
    "    v+=100"
   ]
  },
  {
   "cell_type": "code",
   "execution_count": null,
   "id": "8d6e1355",
   "metadata": {},
   "outputs": [],
   "source": [
    "v=0\n",
    "while v<100 :\n",
    "    v+=1\n",
    "    if v==1:\n",
    "        print(v,\"到100結束\")\n",
    "    elif v<20:\n",
    "        print(v,\"小\")\n",
    "        continue    #直接進下一輪迴圈\n",
    "        print(v,\"777777\")\n",
    "    elif v<60:\n",
    "        print(v,\"中\")\n",
    "        continue\n",
    "    else:\n",
    "        print(v,\"快結束了\")\n",
    "    if v==99:\n",
    "        print(v,'不讓你100')\n",
    "        pass\n",
    "        break"
   ]
  },
  {
   "cell_type": "code",
   "execution_count": null,
   "id": "89c39741",
   "metadata": {},
   "outputs": [],
   "source": [
    "import random\n",
    "x =random.randint(1,6)\n",
    "print(x)"
   ]
  },
  {
   "cell_type": "code",
   "execution_count": null,
   "id": "cc51d4c6",
   "metadata": {},
   "outputs": [],
   "source": [
    "\n",
    "import random\n",
    "x=random.randint(1,6)\n",
    "\n",
    "y=0\n",
    "\n",
    "while y<3:\n",
    "    y+=1\n",
    "    x=random.randint(1,6)\n",
    "    print(x)\n",
    "    if x==5:\n",
    "        print(\"你輸了\")\n",
    "        break\n",
    "    elif y==3:\n",
    "        print(\"你贏了\")\n",
    "        break"
   ]
  },
  {
   "cell_type": "code",
   "execution_count": null,
   "id": "16a7a90c",
   "metadata": {},
   "outputs": [],
   "source": [
    "price=input()\n",
    "better_price=int(price)*0.8\n",
    "print(better_price)"
   ]
  },
  {
   "cell_type": "code",
   "execution_count": null,
   "id": "52a074a7",
   "metadata": {},
   "outputs": [],
   "source": [
    "apple_price=20\n",
    "money=int(input(\"請輸入剩下多少錢\"))\n",
    "apple_num=0\n",
    "bag_volume=5\n",
    "\n",
    "while money >= apple_price:\n",
    "    if apple_num == bag_volume:\n",
    "        print(\"包包滿了\")\n",
    "        break\n",
    "    money-=apple_price\n",
    "    apple_num+=1\n",
    "    print(\"剩下\",money,\"元\")\n",
    "    print(\"蘋果有\",apple_num,\"顆\")\n",
    "    \n",
    "else:\n",
    "    print(\"錢不夠買蘋果\")\n",
    "    print(money,\"元不夠買蘋果\")\n",
    "        \n",
    "    "
   ]
  },
  {
   "cell_type": "code",
   "execution_count": null,
   "id": "625ad780",
   "metadata": {},
   "outputs": [],
   "source": [
    "def add1(a):\n",
    "    a+=1\n",
    "    print(a)\n",
    "    \n",
    "def add2(b):\n",
    "    c=2\n",
    "    d=c+b\n",
    "    print(d)\n",
    "print(\"hi\")\n",
    "add1(35)\n",
    "add2(35)\n",
    "print(\"exit\")"
   ]
  },
  {
   "cell_type": "code",
   "execution_count": null,
   "id": "4153f234",
   "metadata": {},
   "outputs": [],
   "source": [
    "def chinese(a):\n",
    "    b = \"你\"\n",
    "    c = b + a\n",
    "    print(c)\n",
    "\n",
    "chinese(\"好\")"
   ]
  },
  {
   "cell_type": "code",
   "execution_count": null,
   "id": "4d4bf33c",
   "metadata": {},
   "outputs": [],
   "source": [
    "def add(a,b):\n",
    "    c = a + b\n",
    "    return c\n",
    "output = add(34,34) # 因為def裡的變數(c)不會帶出來,所以在外面還要在命名一次\n",
    "print(output)"
   ]
  },
  {
   "cell_type": "code",
   "execution_count": null,
   "id": "65aa182b",
   "metadata": {},
   "outputs": [],
   "source": [
    "class Bird:\n",
    "    def __init__(self, name, isFly):\n",
    "        self.name = name\n",
    "        self.isFly = isFly\n",
    "\n",
    "    #方法(method)\n",
    "    def get_status(self,num):\n",
    "        print(num)\n",
    "        print(\"bird name is \" + self.name + \", can fly is\" + str(self.isFly))\n",
    "    \n",
    "\n",
    "duck = Bird(\"duck\", True)\n",
    "duck.get_status(4444)  #執行結果：bird name is duck, can fly is True"
   ]
  },
  {
   "cell_type": "code",
   "execution_count": null,
   "id": "041e6b07",
   "metadata": {},
   "outputs": [],
   "source": [
    "class Person:\n",
    "    def __init__(self, name, hp, attack):\n",
    "        self.name = name\n",
    "        self.hp = hp\n",
    "        self.attack = attack\n",
    "        \n",
    "    def attack_by_person(self,v):\n",
    "        self.hp -= v.attack\n",
    "        \n",
    "    def change_name(self,n): # n = \"Leo\"\n",
    "        self.name = n\n",
    "        \n",
    "    def get_info(self):\n",
    "        print(self.name)\n",
    "        print(self.hp)\n",
    "        print(self.attack)\n",
    "    def healing(self,u):\n",
    "        self.hp += u.hp \n",
    "play1 = Person(\"peter\",100,3)\n",
    "play2 = Person(\"David\",10,99)\n",
    "play1.attack_by_person(play2)\n",
    "play1.get_info()\n",
    "play1.healing(play2)\n",
    "play1.get_info()\n",
    "\n",
    "    "
   ]
  },
  {
   "cell_type": "code",
   "execution_count": null,
   "id": "0e93e4ec",
   "metadata": {},
   "outputs": [],
   "source": []
  }
 ],
 "metadata": {
  "kernelspec": {
   "display_name": "Python 3 (ipykernel)",
   "language": "python",
   "name": "python3"
  },
  "language_info": {
   "codemirror_mode": {
    "name": "ipython",
    "version": 3
   },
   "file_extension": ".py",
   "mimetype": "text/x-python",
   "name": "python",
   "nbconvert_exporter": "python",
   "pygments_lexer": "ipython3",
   "version": "3.9.15"
  }
 },
 "nbformat": 4,
 "nbformat_minor": 5
}
