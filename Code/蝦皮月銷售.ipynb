{
 "cells": [
  {
   "cell_type": "code",
   "execution_count": null,
   "id": "5047416d",
   "metadata": {},
   "outputs": [],
   "source": [
    "from selenium import webdriver\n",
    "from selenium.webdriver.chrome.options import Options\n",
    "\n",
    "option = webdriver.ChromeOptions() #獲取預設設定 \n",
    "prefs = {\"profile.default_content_setting_values\":{\"notifications\":2}} #創造新設定\n",
    "option.add_experimental_option(\"prefs\",prefs) #更新設定\n",
    "\n",
    "driver = webdriver.Chrome(\"/Users/jasonzheng/Downloads/Chromedriver.exe\",options=option) #開始webdriver並更改預設設定\n",
    "driver.get(\"https://shopee.tw/%E5%9C%92%E8%97%9D%E6%A4%8D%E4%BD%9C-cat.11040925.11040978\") #開啟網址"
   ]
  },
  {
   "cell_type": "code",
   "execution_count": null,
   "id": "e3fd5f38",
   "metadata": {
    "scrolled": true
   },
   "outputs": [],
   "source": [
    "from selenium import webdriver\n",
    "from selenium import webdriver\n",
    "from selenium.webdriver.support.wait import WebDriverWait as wdw\n",
    "from selenium.webdriver.support import expected_conditions as ec\n",
    "from selenium.common.exceptions import TimeoutException\n",
    "from selenium.common.exceptions import NoSuchElementException\n",
    "from selenium.webdriver.common.by import By\n",
    "from selenium.webdriver.common.keys import Keys\n",
    "from time import sleep\n",
    "\n",
    "monthsold=[]\n",
    "page=0\n",
    "while len(monthsold)<1200:\n",
    "    print(\"正在讀取\",page,\"頁\")\n",
    "    page+=1\n",
    "    for i in range(1,61):\n",
    "        sleep(1)\n",
    "        if i % 10 == 0:\n",
    "            driver.execute_script(\"window.scrollTo(0,\"+str((i//10) * 1300)+\")\")\n",
    "            sleep(2)                                                       \n",
    "        try :                                                         \n",
    "            monthsold1 = driver.find_element(By.XPATH,('//*[@id=\"main\"]/div/div[2]/div/div/div[3]/div[2]/div/div[2]/div['+ str(i) +']/a/div/div/div[2]/div[3]/div[2]'))\n",
    "        except (TimeoutException, NoSuchElementException):\n",
    "            continue\n",
    "        monthsold.append(monthsold1.text)\n",
    "        print(len(monthsold))\n",
    "    driver.get(\"https://shopee.tw/%E5%9C%92%E8%97%9D%E6%A4%8D%E4%BD%9C-cat.11040925.11040978?page=\"+str(page)+\"&sortBy=sales\")\n",
    "    sleep(2)"
   ]
  },
  {
   "cell_type": "code",
   "execution_count": null,
   "id": "c875f4c7",
   "metadata": {},
   "outputs": [],
   "source": [
    "#月銷售資料\n",
    "from selenium import webdriver\n",
    "from selenium import webdriver\n",
    "from selenium.webdriver.support.wait import WebDriverWait as wdw\n",
    "from selenium.webdriver.support import expected_conditions as ec\n",
    "from selenium.common.exceptions import TimeoutException\n",
    "from selenium.common.exceptions import NoSuchElementException\n",
    "from selenium.webdriver.common.by import By as by\n",
    "from selenium.webdriver.common.keys import Keys\n",
    "from time import sleep     \n",
    "\n",
    "\n",
    "import openpyxl\n",
    "wb = openpyxl.Workbook()\n",
    "ws = wb.active\n",
    "ws[\"A1\"]=\"Monthsold\"\n",
    "\n",
    "\n",
    "check=0\n",
    "check_list=[]\n",
    "\n",
    "for i in monthsold:\n",
    "    try :\n",
    "        ws.append([i])\n",
    "        check+=1\n",
    "    except (TimeoutException, NoSuchElementException):\n",
    "        print(\"error\")\n",
    "        check_list.append(check)\n",
    "        check+=1\n",
    "        continue\n",
    "        \n",
    "\n",
    "        \n",
    "wb.save(\"蝦皮爬蟲-園藝-月銷售.xlsx\")\n",
    "print(\"-----------分隔線------------\")\n",
    "print(\"錯誤的url: \",end=\"\")\n",
    "print(check_list)\n",
    "print(\"done\")"
   ]
  },
  {
   "cell_type": "code",
   "execution_count": null,
   "id": "fc47d961",
   "metadata": {
    "scrolled": false
   },
   "outputs": [],
   "source": []
  },
  {
   "cell_type": "code",
   "execution_count": null,
   "id": "b062f241",
   "metadata": {},
   "outputs": [],
   "source": []
  },
  {
   "cell_type": "code",
   "execution_count": null,
   "id": "919366fe",
   "metadata": {},
   "outputs": [],
   "source": []
  }
 ],
 "metadata": {
  "kernelspec": {
   "display_name": "Python 3 (ipykernel)",
   "language": "python",
   "name": "python3"
  },
  "language_info": {
   "codemirror_mode": {
    "name": "ipython",
    "version": 3
   },
   "file_extension": ".py",
   "mimetype": "text/x-python",
   "name": "python",
   "nbconvert_exporter": "python",
   "pygments_lexer": "ipython3",
   "version": "3.9.15"
  }
 },
 "nbformat": 4,
 "nbformat_minor": 5
}
