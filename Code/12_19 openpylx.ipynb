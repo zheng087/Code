{
 "cells": [
  {
   "cell_type": "code",
   "execution_count": null,
   "id": "a3f7b157",
   "metadata": {},
   "outputs": [],
   "source": [
    "import openpyxl as op\n",
    "import openpyxl.styles as st\n",
    "exl = op.Workbook()\n",
    "\n",
    "sh1=exl[\"Sheet\"]\n",
    "\n",
    "exl.title = [\"工作表\"]\n",
    "\n",
    "sh1[\"A1\"]=100\n",
    "\n",
    "sh1.cell(5,5,100) #第五列 第五欄 給100的值"
   ]
  },
  {
   "cell_type": "code",
   "execution_count": null,
   "id": "c33f5260",
   "metadata": {},
   "outputs": [],
   "source": [
    "list(sh1.rows)[0][0]"
   ]
  },
  {
   "cell_type": "code",
   "execution_count": null,
   "id": "8bf866db",
   "metadata": {},
   "outputs": [],
   "source": []
  }
 ],
 "metadata": {
  "kernelspec": {
   "display_name": "Python 3 (ipykernel)",
   "language": "python",
   "name": "python3"
  },
  "language_info": {
   "codemirror_mode": {
    "name": "ipython",
    "version": 3
   },
   "file_extension": ".py",
   "mimetype": "text/x-python",
   "name": "python",
   "nbconvert_exporter": "python",
   "pygments_lexer": "ipython3",
   "version": "3.9.15"
  }
 },
 "nbformat": 4,
 "nbformat_minor": 5
}
